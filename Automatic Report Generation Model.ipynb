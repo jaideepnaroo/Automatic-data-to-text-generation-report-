{
 "cells": [
  {
   "cell_type": "markdown",
   "id": "85169001",
   "metadata": {},
   "source": [
    "# ULTRATECH DAILY PRODUCTION COMMENTARY WITH TPP & WHRS COMMENTARY"
   ]
  },
  {
   "cell_type": "markdown",
   "id": "81de889e",
   "metadata": {},
   "source": []
  },
  {
   "cell_type": "markdown",
   "id": "4cfbb410",
   "metadata": {},
   "source": []
  },
  {
   "cell_type": "markdown",
   "id": "eaeb230d",
   "metadata": {},
   "source": [
    "# CSV AUTOMATION FOR CLINKER PRODUCTION"
   ]
  },
  {
   "cell_type": "code",
   "execution_count": 1,
   "id": "6c0b1a28",
   "metadata": {},
   "outputs": [],
   "source": [
    "\n",
    "#importing pandas as pd\n",
    "import pandas as pd\n",
    "  \n",
    "# Read and store content\n",
    "# of an excel file \n",
    "read_file = pd.read_excel (\"C:\\\\Users\\\\jaideep.naroo-st\\\\Documents\\\\DMD Dashboard - Production n Dispatch - UTCL.xlsx\")\n",
    "  \n",
    "# Write the dataframe object\n",
    "# into csv file\n",
    "read_file.to_csv (\"C:\\\\Users\\\\jaideep.naroo-st\\\\Documents\\\\DMD Dashboard - Production n Dispatch - UTCL.csv\", \n",
    "                  index = None,\n",
    "                  header=True)\n",
    "    \n",
    "# read csv file and convert \n",
    "# into a dataframe object\n",
    "df = pd.DataFrame(pd.read_csv(\"C:\\\\Users\\\\jaideep.naroo-st\\\\Documents\\\\DMD Dashboard - Production n Dispatch - UTCL.csv\"))\n",
    "  \n",
    "# show the dataframe"
   ]
  },
  {
   "cell_type": "code",
   "execution_count": 2,
   "id": "ab581107",
   "metadata": {},
   "outputs": [
    {
     "data": {
      "text/plain": [
       "Index(['DMD Dashboard - Production/Dispatch- UTCL', 'Unnamed: 1', 'Unnamed: 2',\n",
       "       'Unnamed: 3', 'Unnamed: 4', 'Unnamed: 5', 'Unnamed: 6', 'Unnamed: 7',\n",
       "       'Unnamed: 8', 'Unnamed: 9', 'Unnamed: 10', 'Unnamed: 11', 'Unnamed: 12',\n",
       "       'Unnamed: 13', 'Unnamed: 14', 'Unnamed: 15', 'Unnamed: 16',\n",
       "       'Unnamed: 17'],\n",
       "      dtype='object')"
      ]
     },
     "execution_count": 2,
     "metadata": {},
     "output_type": "execute_result"
    }
   ],
   "source": [
    "df.columns"
   ]
  },
  {
   "cell_type": "code",
   "execution_count": 3,
   "id": "59ea213a",
   "metadata": {},
   "outputs": [],
   "source": [
    "#DROPPING THE COLUMNS \n",
    "df.drop(labels=['Unnamed: 6', 'Unnamed: 7', 'Unnamed: 8', 'Unnamed: 9', 'Unnamed: 10', \n",
    "                'Unnamed: 11', 'Unnamed: 12','Unnamed: 13', 'Unnamed: 14', 'Unnamed: 15',\n",
    "                'Unnamed: 16','Unnamed: 17'], axis=1, inplace=True)"
   ]
  },
  {
   "cell_type": "code",
   "execution_count": 4,
   "id": "075a7060",
   "metadata": {},
   "outputs": [],
   "source": [
    "df.rename(columns = {'DMD Dashboard - Production/Dispatch- UTCL':df.loc[2,'DMD Dashboard - Production/Dispatch- UTCL'],\n",
    "                     'Unnamed: 1':df.loc[2,'Unnamed: 1'],\n",
    "                     'Unnamed: 2':df.loc[2,'Unnamed: 2'],\n",
    "                     'Unnamed: 3':df.loc[2,'Unnamed: 3'],\n",
    "                     'Unnamed: 4':df.loc[2,'Unnamed: 4'],\n",
    "                     'Unnamed: 5':df.loc[2,'Unnamed: 5']}, inplace = True)"
   ]
  },
  {
   "cell_type": "code",
   "execution_count": 5,
   "id": "68c92bd2",
   "metadata": {},
   "outputs": [],
   "source": [
    "df['DateTime'] = df.loc[0,'Unit']"
   ]
  },
  {
   "cell_type": "code",
   "execution_count": 6,
   "id": "c5ddddf7",
   "metadata": {},
   "outputs": [],
   "source": [
    "df['Date'] = pd.to_datetime(df['DateTime']).dt.date"
   ]
  },
  {
   "cell_type": "code",
   "execution_count": 7,
   "id": "148c93ec",
   "metadata": {},
   "outputs": [],
   "source": [
    "df.drop(labels=['DateTime'], axis=1, inplace=True)"
   ]
  },
  {
   "cell_type": "code",
   "execution_count": 8,
   "id": "89f0cbdc",
   "metadata": {},
   "outputs": [],
   "source": [
    "df['Date'] = pd.to_datetime(df.Date)"
   ]
  },
  {
   "cell_type": "code",
   "execution_count": 9,
   "id": "b1d53704",
   "metadata": {},
   "outputs": [],
   "source": [
    "df['Date1'] = df['Date'].dt.strftime('%d/%m/%Y')\n"
   ]
  },
  {
   "cell_type": "code",
   "execution_count": 10,
   "id": "4662dcab",
   "metadata": {},
   "outputs": [],
   "source": [
    "new_cols = [\"Date1\",\"Unit\",\"Potential\",\"Budget\",\"Today\",\"Avg MTD\",\"Var\"]\n",
    "df=df[new_cols]\n",
    "#or\n",
    "df=df.reindex(columns=new_cols)"
   ]
  },
  {
   "cell_type": "code",
   "execution_count": 11,
   "id": "264f2371",
   "metadata": {},
   "outputs": [],
   "source": [
    "df.drop([0,1,2],axis=0,inplace=True)"
   ]
  },
  {
   "cell_type": "code",
   "execution_count": 12,
   "id": "3ed3dd4a",
   "metadata": {},
   "outputs": [],
   "source": [
    "#df.drop(labels=['Avg MTD'], axis=1, inplace=True)"
   ]
  },
  {
   "cell_type": "code",
   "execution_count": 13,
   "id": "37db0787",
   "metadata": {},
   "outputs": [],
   "source": [
    "#df['Today'] = df['Today'].astype(int\n",
    "df['Today'] = pd.to_numeric(df['Today'])"
   ]
  },
  {
   "cell_type": "code",
   "execution_count": 14,
   "id": "024d8d43",
   "metadata": {},
   "outputs": [],
   "source": [
    "df['Budget'] = pd.to_numeric(df['Budget'])"
   ]
  },
  {
   "cell_type": "code",
   "execution_count": 15,
   "id": "7c5a509f",
   "metadata": {},
   "outputs": [],
   "source": [
    "df[\"TPD\"] = ( df[\"Budget\"] - df[\"Today\"])"
   ]
  },
  {
   "cell_type": "code",
   "execution_count": 16,
   "id": "9018cde3",
   "metadata": {},
   "outputs": [],
   "source": [
    "df.drop(labels=['Var'], axis=1, inplace=True)"
   ]
  },
  {
   "cell_type": "code",
   "execution_count": 17,
   "id": "f0509cb7",
   "metadata": {},
   "outputs": [],
   "source": [
    "df[\"Var\"] = ( df[\"Today\"] - df[\"Budget\"])"
   ]
  },
  {
   "cell_type": "code",
   "execution_count": 18,
   "id": "e52b22f5",
   "metadata": {},
   "outputs": [],
   "source": [
    "df.drop(labels=['Potential'], axis=1, inplace=True)"
   ]
  },
  {
   "cell_type": "code",
   "execution_count": 19,
   "id": "c4fd4305",
   "metadata": {},
   "outputs": [],
   "source": [
    "df['Budget'] = pd.to_numeric(df['Budget'])"
   ]
  },
  {
   "cell_type": "code",
   "execution_count": 20,
   "id": "046b6a21",
   "metadata": {},
   "outputs": [],
   "source": [
    " \n",
    "df[\"Percentage\"] = ( df[\"TPD\"] / df[\"Budget\"] * 100)\n"
   ]
  },
  {
   "cell_type": "raw",
   "id": "d73ce5b6",
   "metadata": {},
   "source": []
  },
  {
   "cell_type": "markdown",
   "id": "748568da",
   "metadata": {},
   "source": [
    "# CLINKER REASONS"
   ]
  },
  {
   "cell_type": "code",
   "execution_count": 21,
   "id": "be778f8e",
   "metadata": {},
   "outputs": [],
   "source": [
    "KS =pd.read_excel(r\"C:\\\\Users\\\\jaideep.naroo-st\\\\Documents\\\\DMD Dashboard - Production n Dispatch - UTCL.xlsx\",sheet_name='Stoppage Reasons')\n",
    "KS.to_csv(r\"C:\\\\Users\\\\jaideep.naroo-st\\\\Documents\\\\UTCL.csv\",index = None, header=True)"
   ]
  },
  {
   "cell_type": "code",
   "execution_count": 22,
   "id": "dd50342a",
   "metadata": {},
   "outputs": [],
   "source": [
    "KS.drop(labels=['Unnamed: 8', 'Unnamed: 9',\n",
    "       'Unnamed: 10', 'Unnamed: 11', 'Unnamed: 12', 'Unnamed: 13', 'Unnamed: 14'], axis=1, inplace=True)"
   ]
  },
  {
   "cell_type": "code",
   "execution_count": 23,
   "id": "14206f74",
   "metadata": {},
   "outputs": [],
   "source": [
    "KS.rename(columns = {' \\n\\t\\t\\t\\t\\t\\t\\t\\t\\t\\t\\t\\t\\t\\t\\t\\t\\t\\t\\t\\t\\t':KS.loc[2,' \\n\\t\\t\\t\\t\\t\\t\\t\\t\\t\\t\\t\\t\\t\\t\\t\\t\\t\\t\\t\\t\\t'],\n",
    "                     'Unnamed: 1':KS.loc[2,'Unnamed: 1'],\n",
    "                     'Unnamed: 2':KS.loc[2,'Unnamed: 2'],\n",
    "                     'Unnamed: 3':KS.loc[2,'Unnamed: 3'],\n",
    "                     'Unnamed: 4':KS.loc[2,'Unnamed: 4'],\n",
    "                     'Unnamed: 5':KS.loc[2,'Unnamed: 5'],\n",
    "                     'Unnamed: 6':KS.loc[2,'Unnamed: 6'],\n",
    "                     'Unnamed: 7':KS.loc[2,'Unnamed: 7']}, inplace =True)"
   ]
  },
  {
   "cell_type": "code",
   "execution_count": 24,
   "id": "d9e492b6",
   "metadata": {},
   "outputs": [],
   "source": [
    "KS.drop([0,1,2],axis=0,inplace=True)"
   ]
  },
  {
   "cell_type": "code",
   "execution_count": 25,
   "id": "58f31254",
   "metadata": {},
   "outputs": [],
   "source": [
    "KS[\"Plant Name\"].fillna( method ='ffill', inplace = True)"
   ]
  },
  {
   "cell_type": "code",
   "execution_count": 26,
   "id": "76efb16b",
   "metadata": {},
   "outputs": [],
   "source": [
    "KS.drop(labels=['Plant Category', 'Frequency','Frequency'], axis=1, inplace=True)\n"
   ]
  },
  {
   "cell_type": "code",
   "execution_count": 27,
   "id": "cf0385c5",
   "metadata": {},
   "outputs": [],
   "source": [
    "KS = KS.loc[:, pd.notnull(KS.columns)]"
   ]
  },
  {
   "cell_type": "code",
   "execution_count": 28,
   "id": "077ccd41",
   "metadata": {},
   "outputs": [],
   "source": [
    "KS.rename(columns = {'Plant Name':'Unit'}, inplace = True)"
   ]
  },
  {
   "cell_type": "code",
   "execution_count": 29,
   "id": "f87fdca2",
   "metadata": {},
   "outputs": [],
   "source": [
    "KS=KS[~KS['Stoppage Hours'].isnull()]"
   ]
  },
  {
   "cell_type": "code",
   "execution_count": 30,
   "id": "79be946c",
   "metadata": {},
   "outputs": [],
   "source": [
    "import numpy as np\n",
    "KS['Stoppage Hours'] = np.where((KS['Stoppage Hours']==0), 1000, KS['Stoppage Hours'])"
   ]
  },
  {
   "cell_type": "code",
   "execution_count": 31,
   "id": "31e83494",
   "metadata": {},
   "outputs": [],
   "source": [
    "clkr=df.merge(KS[['Unit','System Remark','Remark by User','Stoppage Hours','Workcentre']], on = 'Unit', how = 'left')"
   ]
  },
  {
   "cell_type": "code",
   "execution_count": 32,
   "id": "13d7abab",
   "metadata": {},
   "outputs": [],
   "source": [
    "clkr[\"Stoppage Hours\"].fillna(\"0\", inplace = True)"
   ]
  },
  {
   "cell_type": "code",
   "execution_count": 33,
   "id": "276cbb9f",
   "metadata": {},
   "outputs": [],
   "source": [
    "clkr[\"Workcentre\"].fillna( method ='ffill', inplace = True)"
   ]
  },
  {
   "cell_type": "code",
   "execution_count": 34,
   "id": "fda09d18",
   "metadata": {},
   "outputs": [],
   "source": [
    "clkr[\"Workcentre\"].bfill(inplace=True)"
   ]
  },
  {
   "cell_type": "code",
   "execution_count": 35,
   "id": "b2789341",
   "metadata": {},
   "outputs": [],
   "source": [
    "clkr[\"Remark by User\"].fillna(\"none\", inplace = True)\n",
    "#clkr[\"System Remark\"].fillna(\"none\", inplace = True)\n",
    "#clkr[\"Workcentre\"].fillna(\"none\", inplace = True)\n"
   ]
  },
  {
   "cell_type": "code",
   "execution_count": 36,
   "id": "e2452995",
   "metadata": {},
   "outputs": [],
   "source": [
    "colsclink= ['System Remark']\n",
    "clkr.loc[:,colsclink] = clkr.loc[:,colsclink].ffill()"
   ]
  },
  {
   "cell_type": "code",
   "execution_count": 37,
   "id": "c63b7238",
   "metadata": {},
   "outputs": [],
   "source": [
    "dat=clkr.loc[4,'Date1']"
   ]
  },
  {
   "cell_type": "code",
   "execution_count": 38,
   "id": "66337ea0",
   "metadata": {},
   "outputs": [],
   "source": [
    "#clkr['Var'] = pd.to_numeric(['Var'])"
   ]
  },
  {
   "cell_type": "code",
   "execution_count": 39,
   "id": "2d851ab2",
   "metadata": {},
   "outputs": [],
   "source": [
    "#clkr['Var']= round(clkr['Var'],1)"
   ]
  },
  {
   "cell_type": "code",
   "execution_count": 40,
   "id": "c02b6f3d",
   "metadata": {},
   "outputs": [],
   "source": [
    "clkr['Percentage'] = pd.to_numeric(clkr['Percentage'])"
   ]
  },
  {
   "cell_type": "code",
   "execution_count": 41,
   "id": "89f8446a",
   "metadata": {},
   "outputs": [],
   "source": [
    "clkr['Percentage']= round(clkr['Percentage'],1)"
   ]
  },
  {
   "cell_type": "code",
   "execution_count": 42,
   "id": "294c0b9e",
   "metadata": {},
   "outputs": [],
   "source": [
    "clkr['Stoppage Hours'] = pd.to_numeric(clkr['Stoppage Hours'])"
   ]
  },
  {
   "cell_type": "code",
   "execution_count": 43,
   "id": "2a62b820",
   "metadata": {},
   "outputs": [],
   "source": [
    "def clkr_neg_to_pos(clkr):\n",
    "    if clkr['TPD'] < 0:\n",
    "        return clkr['TPD'] + clkr['TPD'] - clkr['TPD']\n",
    "    elif clkr['TPD'] >0:\n",
    "        return clkr['TPD']\n",
    "\n",
    "#create Age_new \n",
    "clkr['TPD'] = clkr['TPD'].abs()"
   ]
  },
  {
   "cell_type": "code",
   "execution_count": 44,
   "id": "4b8d1123",
   "metadata": {},
   "outputs": [],
   "source": [
    "def clkr_perc(clkr):\n",
    "    if clkr['Percentage'] < 0:\n",
    "        return clkr['Percentage'] + clkr['Percentage'] - clkr['Percentage']\n",
    "    elif clkr['Percentage'] >0:\n",
    "        return clkr['Percentage']\n",
    "\n",
    "#create Age_new \n",
    "clkr['Percentage'] = clkr['Percentage'].abs()"
   ]
  },
  {
   "cell_type": "markdown",
   "id": "eea38fae",
   "metadata": {},
   "source": [
    "# CSV AUTOMATION FOR CEMENT PRODUCTION"
   ]
  },
  {
   "cell_type": "code",
   "execution_count": 45,
   "id": "4258d23f",
   "metadata": {},
   "outputs": [],
   "source": [
    "df_cmt =pd.read_excel(r'C:\\\\Users\\\\jaideep.naroo-st\\\\Documents\\\\DMD Dashboard - Production n Dispatch - UTCL.xlsx',sheet_name='Cement Production')\n",
    "df_cmt.to_csv(r'C:\\\\Users\\\\jaideep.naroo-st\\\\Documents\\\\cementproduction.csv',index = None, header=True)\n",
    "\n",
    "#change the csv file as kinl is occupying this one."
   ]
  },
  {
   "cell_type": "code",
   "execution_count": 46,
   "id": "1f9630ab",
   "metadata": {},
   "outputs": [
    {
     "data": {
      "text/plain": [
       "Index([' \\n\\t\\t\\t\\t\\t\\t\\t\\t\\t\\t\\t\\t\\t\\t\\t\\t\\t\\t\\t\\t\\t', 'Unnamed: 1',\n",
       "       'Unnamed: 2', 'Unnamed: 3', 'Unnamed: 4', 'Unnamed: 5', 'Unnamed: 6',\n",
       "       'Unnamed: 7', 'Unnamed: 8', 'Unnamed: 9', 'Unnamed: 10', 'Unnamed: 11',\n",
       "       'Unnamed: 12', 'Unnamed: 13', 'Unnamed: 14'],\n",
       "      dtype='object')"
      ]
     },
     "execution_count": 46,
     "metadata": {},
     "output_type": "execute_result"
    }
   ],
   "source": [
    "df_cmt.columns"
   ]
  },
  {
   "cell_type": "code",
   "execution_count": 47,
   "id": "5f735d26",
   "metadata": {},
   "outputs": [],
   "source": [
    "#DROPPING THE COLUMNS \n",
    "df_cmt.drop(labels=['Unnamed: 5', 'Unnamed: 6', 'Unnamed: 7', 'Unnamed: 8', 'Unnamed: 9', \n",
    "                'Unnamed: 10', 'Unnamed: 11','Unnamed: 12', 'Unnamed: 13', 'Unnamed: 14'], axis=1, inplace=True)"
   ]
  },
  {
   "cell_type": "code",
   "execution_count": 48,
   "id": "ffd5e7ad",
   "metadata": {},
   "outputs": [],
   "source": [
    "df_cmt.rename(columns = {' \\n\\t\\t\\t\\t\\t\\t\\t\\t\\t\\t\\t\\t\\t\\t\\t\\t\\t\\t\\t\\t\\t':df_cmt.loc[3,' \\n\\t\\t\\t\\t\\t\\t\\t\\t\\t\\t\\t\\t\\t\\t\\t\\t\\t\\t\\t\\t\\t'],\n",
    "                     'Unnamed: 1':df_cmt.loc[3,'Unnamed: 1'],\n",
    "                     'Unnamed: 2':df_cmt.loc[3,'Unnamed: 2'],\n",
    "                     'Unnamed: 3':df_cmt.loc[3,'Unnamed: 3'],\n",
    "                     'Unnamed: 4':df_cmt.loc[3,'Unnamed: 4']}, inplace = True)"
   ]
  },
  {
   "cell_type": "code",
   "execution_count": 49,
   "id": "61aa38cc",
   "metadata": {},
   "outputs": [],
   "source": [
    "df_cmt.drop([0,1,2],axis=0,inplace=True)"
   ]
  },
  {
   "cell_type": "code",
   "execution_count": 50,
   "id": "4fdf24ec",
   "metadata": {},
   "outputs": [],
   "source": [
    "df_cmt.drop([3],axis=0,inplace=True)"
   ]
  },
  {
   "cell_type": "code",
   "execution_count": 51,
   "id": "e31353ee",
   "metadata": {},
   "outputs": [],
   "source": [
    "df_cmt[\"TPD\"] = ( df_cmt[\"Budget\"] - df_cmt[\"Today\"])"
   ]
  },
  {
   "cell_type": "code",
   "execution_count": 52,
   "id": "c906786d",
   "metadata": {},
   "outputs": [],
   "source": [
    "df_cmt.drop(labels=['Var'], axis=1, inplace=True)\n"
   ]
  },
  {
   "cell_type": "code",
   "execution_count": 53,
   "id": "82869479",
   "metadata": {},
   "outputs": [],
   "source": [
    "df_cmt[\"Var\"] = ( df_cmt[\"Today\"] - df_cmt[\"Budget\"])"
   ]
  },
  {
   "cell_type": "code",
   "execution_count": 54,
   "id": "e666ac66",
   "metadata": {},
   "outputs": [],
   "source": [
    "df_cmt = df_cmt[df_cmt['Budget'] != 0]"
   ]
  },
  {
   "cell_type": "code",
   "execution_count": 55,
   "id": "69f3a53a",
   "metadata": {},
   "outputs": [],
   "source": [
    "df_cmt[\"Percentage\"] = ( df_cmt[\"TPD\"] / df_cmt[\"Budget\"] *100)"
   ]
  },
  {
   "cell_type": "code",
   "execution_count": 56,
   "id": "313cab6d",
   "metadata": {},
   "outputs": [],
   "source": [
    "df_cmt=df_cmt.dropna()#= df_cmt['Percentage'] = df_cmt['Percentage'].astype(int)"
   ]
  },
  {
   "cell_type": "code",
   "execution_count": 57,
   "id": "c96d13b7",
   "metadata": {},
   "outputs": [],
   "source": [
    "df_cmt['Var'] = pd.to_numeric(df_cmt['Var'])"
   ]
  },
  {
   "cell_type": "code",
   "execution_count": 58,
   "id": "66c60f15",
   "metadata": {},
   "outputs": [],
   "source": [
    "df_cmt['Budget'] = pd.to_numeric(df_cmt['Budget'])"
   ]
  },
  {
   "cell_type": "code",
   "execution_count": 59,
   "id": "7ef02cbf",
   "metadata": {},
   "outputs": [],
   "source": [
    "df_cmt['Budget']= round(df_cmt['Budget'],1)"
   ]
  },
  {
   "cell_type": "code",
   "execution_count": 60,
   "id": "29b91037",
   "metadata": {},
   "outputs": [],
   "source": [
    "df_cmt['Var']= round(df_cmt['Var'],1)"
   ]
  },
  {
   "cell_type": "code",
   "execution_count": 61,
   "id": "18964648",
   "metadata": {},
   "outputs": [],
   "source": [
    "df_cmt['Percentage'] = pd.to_numeric(df_cmt['Percentage'])"
   ]
  },
  {
   "cell_type": "code",
   "execution_count": 62,
   "id": "e2664638",
   "metadata": {},
   "outputs": [],
   "source": [
    "df_cmt['Percentage']= round(df_cmt['Percentage'],1)"
   ]
  },
  {
   "cell_type": "code",
   "execution_count": 63,
   "id": "393e53ca",
   "metadata": {},
   "outputs": [],
   "source": [
    "df_cmt['TPD'] = pd.to_numeric(df_cmt['TPD'])"
   ]
  },
  {
   "cell_type": "code",
   "execution_count": 64,
   "id": "2ce8a42d",
   "metadata": {},
   "outputs": [],
   "source": [
    "df_cmt['TPD']= round(df_cmt['TPD'],1)"
   ]
  },
  {
   "cell_type": "raw",
   "id": "9778cbec",
   "metadata": {},
   "source": []
  },
  {
   "cell_type": "markdown",
   "id": "fae3d844",
   "metadata": {},
   "source": [
    "# CEMENT PRODUCTION"
   ]
  },
  {
   "cell_type": "code",
   "execution_count": 65,
   "id": "e3d6dcd6",
   "metadata": {},
   "outputs": [],
   "source": [
    "CS =pd.read_excel(r'C:\\\\Users\\\\jaideep.naroo-st\\\\Documents\\\\DMD Dashboard - Production n Dispatch - UTCL.xlsx',sheet_name='Stoppage Reasons')\n",
    "CS.to_csv(r'C:\\\\Users\\\\jaideep.naroo-st\\\\Documents\\\\UTCL.csv',index = None, header=True)"
   ]
  },
  {
   "cell_type": "code",
   "execution_count": 66,
   "id": "29cd7cd8",
   "metadata": {},
   "outputs": [
    {
     "data": {
      "text/plain": [
       "Index([' \\n\\t\\t\\t\\t\\t\\t\\t\\t\\t\\t\\t\\t\\t\\t\\t\\t\\t\\t\\t\\t\\t', 'Unnamed: 1',\n",
       "       'Unnamed: 2', 'Unnamed: 3', 'Unnamed: 4', 'Unnamed: 5', 'Unnamed: 6',\n",
       "       'Unnamed: 7', 'Unnamed: 8', 'Unnamed: 9', 'Unnamed: 10', 'Unnamed: 11',\n",
       "       'Unnamed: 12', 'Unnamed: 13', 'Unnamed: 14'],\n",
       "      dtype='object')"
      ]
     },
     "execution_count": 66,
     "metadata": {},
     "output_type": "execute_result"
    }
   ],
   "source": [
    "CS.columns"
   ]
  },
  {
   "cell_type": "code",
   "execution_count": 67,
   "id": "1d189db7",
   "metadata": {},
   "outputs": [],
   "source": [
    "CS.drop(labels=[' \\n\\t\\t\\t\\t\\t\\t\\t\\t\\t\\t\\t\\t\\t\\t\\t\\t\\t\\t\\t\\t\\t', 'Unnamed: 1',\n",
    "       'Unnamed: 2', 'Unnamed: 3', 'Unnamed: 4', 'Unnamed: 5', 'Unnamed: 6','Unnamed: 7','Unnamed: 8'], axis=1, inplace=True)"
   ]
  },
  {
   "cell_type": "code",
   "execution_count": 68,
   "id": "98f25749",
   "metadata": {},
   "outputs": [],
   "source": [
    "CS.rename(columns = {'Unnamed: 9':CS.loc[2,'Unnamed: 9'],\n",
    "                     'Unnamed: 10':CS.loc[2,'Unnamed: 10'],\n",
    "                     'Unnamed: 11':CS.loc[2,'Unnamed: 11'],\n",
    "                     'Unnamed: 12':CS.loc[2,'Unnamed: 12'],\n",
    "                     'Unnamed: 13':CS.loc[2,'Unnamed: 13'],\n",
    "                     'Unnamed: 14':CS.loc[2,'Unnamed: 14']}, inplace = True)"
   ]
  },
  {
   "cell_type": "code",
   "execution_count": 69,
   "id": "97918b4a",
   "metadata": {},
   "outputs": [],
   "source": [
    "CS.drop([0,1,2],axis=0,inplace=True)"
   ]
  },
  {
   "cell_type": "code",
   "execution_count": 70,
   "id": "7ae63471",
   "metadata": {},
   "outputs": [],
   "source": [
    "CS[\"Plant Name\"].fillna( method ='ffill', inplace = True)"
   ]
  },
  {
   "cell_type": "code",
   "execution_count": 71,
   "id": "b31a49a8",
   "metadata": {},
   "outputs": [],
   "source": [
    "CS.rename(columns = {'Plant Name':'Unit'}, inplace = True)"
   ]
  },
  {
   "cell_type": "code",
   "execution_count": 72,
   "id": "df6f4ddb",
   "metadata": {},
   "outputs": [],
   "source": [
    "import numpy as np\n",
    "CS['Stoppage Hours'] = np.where((CS['Stoppage Hours']==0), 1000, CS['Stoppage Hours'])"
   ]
  },
  {
   "cell_type": "code",
   "execution_count": 73,
   "id": "84486f07",
   "metadata": {},
   "outputs": [],
   "source": [
    "cemt=df_cmt.merge(CS[['Unit','System Remark','Remark by User','Stoppage Hours','Workcentre']], on = 'Unit', how = 'left')"
   ]
  },
  {
   "cell_type": "code",
   "execution_count": 74,
   "id": "09eaeb9c",
   "metadata": {},
   "outputs": [],
   "source": [
    "cemt[\"Stoppage Hours\"].fillna(\"0\", inplace = True)"
   ]
  },
  {
   "cell_type": "code",
   "execution_count": 75,
   "id": "de405d36",
   "metadata": {
    "scrolled": true
   },
   "outputs": [],
   "source": [
    "#cemt[\"System Remark\"].fillna(\"none\", inplace = True)\n",
    "colscemt= ['System Remark']\n",
    "cemt.loc[:,colscemt] = cemt.loc[:,colscemt].ffill()"
   ]
  },
  {
   "cell_type": "code",
   "execution_count": 76,
   "id": "4a9396d2",
   "metadata": {},
   "outputs": [],
   "source": [
    "#cemt[\"Remark by User\"].fillna(\"none\", inplace = True)"
   ]
  },
  {
   "cell_type": "code",
   "execution_count": 77,
   "id": "bb23282c",
   "metadata": {},
   "outputs": [],
   "source": [
    "#cemt[\"Workcentre\"].fillna(\"none\", inplace = True)\n",
    "cemt[\"Workcentre\"].fillna( method ='ffill', inplace = True)"
   ]
  },
  {
   "cell_type": "code",
   "execution_count": 78,
   "id": "86d895ba",
   "metadata": {},
   "outputs": [],
   "source": [
    "cemt[\"Workcentre\"].bfill(inplace=True)"
   ]
  },
  {
   "cell_type": "code",
   "execution_count": 79,
   "id": "16a8fd3a",
   "metadata": {},
   "outputs": [],
   "source": [
    "cemt[\"Date1\"]= clkr.loc[4,'Date1']"
   ]
  },
  {
   "cell_type": "code",
   "execution_count": 80,
   "id": "8d692a98",
   "metadata": {},
   "outputs": [],
   "source": [
    "#cemt.rename(columns = {'Percentage':'Percentage1'}, inplace = True)"
   ]
  },
  {
   "cell_type": "code",
   "execution_count": 81,
   "id": "d510590a",
   "metadata": {},
   "outputs": [],
   "source": [
    "new_cols1 = [\"Date1\",\"Unit\",\"Budget\",\"Today\",\"Avg MTD\",\"Var\",\"TPD\",\"Percentage\",\"System Remark\",\"Remark by User\",\"Stoppage Hours\",\"Workcentre\"]\n",
    "cemt=cemt[new_cols1]\n",
    "#or\n",
    "cemt=cemt.reindex(columns=new_cols1)"
   ]
  },
  {
   "cell_type": "code",
   "execution_count": 82,
   "id": "1de61db0",
   "metadata": {},
   "outputs": [],
   "source": [
    "def tran_neg_to_pos(sp):\n",
    "    if cemt['TPD'] < 0:\n",
    "        return cemt['TPD'] + cemt['TPD'] - cemt['TPD']\n",
    "    elif cemt['TPD'] >0:\n",
    "        return cemt['TPD']\n",
    "\n",
    "#create Age_new \n",
    "cemt['TPD'] = cemt['TPD'].abs()"
   ]
  },
  {
   "cell_type": "code",
   "execution_count": 83,
   "id": "0b8d98cd",
   "metadata": {},
   "outputs": [],
   "source": [
    "#chnages made from percentage1 to percentage\n",
    "def perc_neg_to_pos(sp):\n",
    "    if cemt['Percentage'] < 0:\n",
    "        return cemt['Percentage'] + cemt['Percentage'] - cemt['Percentage']\n",
    "    elif cemt['Percentage'] >0:\n",
    "        return cemt['Percentage']\n",
    "\n",
    "#create Age_new \n",
    "cemt['Percentage'] = cemt['Percentage'].abs()"
   ]
  },
  {
   "cell_type": "code",
   "execution_count": null,
   "id": "aa896dd1",
   "metadata": {},
   "outputs": [],
   "source": []
  },
  {
   "cell_type": "markdown",
   "id": "d6e5ca56",
   "metadata": {},
   "source": [
    "# CEMENT  SUMMARY DATASET PROCESSING"
   ]
  },
  {
   "cell_type": "code",
   "execution_count": 84,
   "id": "372ad3fb",
   "metadata": {},
   "outputs": [],
   "source": [
    "alpha=cemt.set_index(\"Unit\")"
   ]
  },
  {
   "cell_type": "code",
   "execution_count": 85,
   "id": "b47f712a",
   "metadata": {},
   "outputs": [],
   "source": [
    "north= alpha.loc['AC':'NORTH']"
   ]
  },
  {
   "cell_type": "code",
   "execution_count": 86,
   "id": "86987a7a",
   "metadata": {},
   "outputs": [],
   "source": [
    "north = north.reset_index()"
   ]
  },
  {
   "cell_type": "code",
   "execution_count": 87,
   "id": "2f064896",
   "metadata": {},
   "outputs": [],
   "source": [
    "import numpy as np\n",
    "north=north.apply(np.roll, shift=1)\n"
   ]
  },
  {
   "cell_type": "code",
   "execution_count": 88,
   "id": "22976e25",
   "metadata": {},
   "outputs": [],
   "source": [
    "north['Region']= 'North'"
   ]
  },
  {
   "cell_type": "code",
   "execution_count": 89,
   "id": "4a05d7e4",
   "metadata": {},
   "outputs": [],
   "source": [
    "central= alpha.loc['BLCW':'CENTRAL']"
   ]
  },
  {
   "cell_type": "code",
   "execution_count": 90,
   "id": "9f7768f6",
   "metadata": {},
   "outputs": [],
   "source": [
    "central = central.reset_index()"
   ]
  },
  {
   "cell_type": "code",
   "execution_count": 91,
   "id": "0544700d",
   "metadata": {},
   "outputs": [],
   "source": [
    "import numpy as np\n",
    "central=central.apply(np.roll, shift=1)\n"
   ]
  },
  {
   "cell_type": "code",
   "execution_count": 92,
   "id": "7d169185",
   "metadata": {},
   "outputs": [],
   "source": [
    "central['Region']= 'Central'"
   ]
  },
  {
   "cell_type": "code",
   "execution_count": 93,
   "id": "0aae1cfd",
   "metadata": {},
   "outputs": [],
   "source": [
    "east= alpha.loc['RWCW':'EAST']"
   ]
  },
  {
   "cell_type": "code",
   "execution_count": 94,
   "id": "a2abe429",
   "metadata": {},
   "outputs": [],
   "source": [
    "east = east.reset_index()"
   ]
  },
  {
   "cell_type": "code",
   "execution_count": 95,
   "id": "48d482c2",
   "metadata": {},
   "outputs": [],
   "source": [
    "import numpy as np\n",
    "east=east.apply(np.roll, shift=1)\n"
   ]
  },
  {
   "cell_type": "code",
   "execution_count": 96,
   "id": "2d32b512",
   "metadata": {},
   "outputs": [],
   "source": [
    "east['Region']= 'East'"
   ]
  },
  {
   "cell_type": "code",
   "execution_count": 97,
   "id": "be669cca",
   "metadata": {},
   "outputs": [],
   "source": [
    "west= alpha.loc['GCW':'WEST']"
   ]
  },
  {
   "cell_type": "code",
   "execution_count": 98,
   "id": "e35aec5d",
   "metadata": {},
   "outputs": [],
   "source": [
    "west = west.reset_index()"
   ]
  },
  {
   "cell_type": "code",
   "execution_count": 99,
   "id": "2fb968c5",
   "metadata": {},
   "outputs": [],
   "source": [
    "import numpy as np\n",
    "west=west.apply(np.roll, shift=1)"
   ]
  },
  {
   "cell_type": "code",
   "execution_count": 100,
   "id": "3f0a5fc6",
   "metadata": {},
   "outputs": [],
   "source": [
    "west['Region']= 'West'"
   ]
  },
  {
   "cell_type": "code",
   "execution_count": 101,
   "id": "1cc9fbb9",
   "metadata": {},
   "outputs": [],
   "source": [
    "south= alpha.loc['RC':'SOUTH']"
   ]
  },
  {
   "cell_type": "code",
   "execution_count": 102,
   "id": "65cee88c",
   "metadata": {},
   "outputs": [],
   "source": [
    "south = south.reset_index()"
   ]
  },
  {
   "cell_type": "code",
   "execution_count": 103,
   "id": "e8820f97",
   "metadata": {},
   "outputs": [],
   "source": [
    "import numpy as np\n",
    "south=south.apply(np.roll, shift=1)"
   ]
  },
  {
   "cell_type": "code",
   "execution_count": 104,
   "id": "ec0558ba",
   "metadata": {},
   "outputs": [],
   "source": [
    "south['Region']= 'South'"
   ]
  },
  {
   "cell_type": "code",
   "execution_count": 105,
   "id": "3a5dd1ec",
   "metadata": {},
   "outputs": [],
   "source": [
    "vidarbha= alpha.loc['ACW':'VIDARBHA']"
   ]
  },
  {
   "cell_type": "code",
   "execution_count": 106,
   "id": "f3e81545",
   "metadata": {},
   "outputs": [],
   "source": [
    "vidarbha = vidarbha.reset_index()"
   ]
  },
  {
   "cell_type": "code",
   "execution_count": 107,
   "id": "7f04ba11",
   "metadata": {},
   "outputs": [],
   "source": [
    "import numpy as np\n",
    "vidarbha=vidarbha.apply(np.roll, shift=1)"
   ]
  },
  {
   "cell_type": "code",
   "execution_count": 108,
   "id": "3999047e",
   "metadata": {},
   "outputs": [],
   "source": [
    "vidarbha['Region']= 'Vidarbha'"
   ]
  },
  {
   "cell_type": "code",
   "execution_count": null,
   "id": "039c29c1",
   "metadata": {},
   "outputs": [],
   "source": []
  },
  {
   "cell_type": "code",
   "execution_count": null,
   "id": "1e7535f0",
   "metadata": {},
   "outputs": [],
   "source": []
  },
  {
   "cell_type": "markdown",
   "id": "50c1a292",
   "metadata": {},
   "source": [
    "# Final Cement Dataset "
   ]
  },
  {
   "cell_type": "code",
   "execution_count": 109,
   "id": "de97b278",
   "metadata": {},
   "outputs": [],
   "source": [
    "#cement=[north,central,east,west,south,vidarbha]\n",
    "cement = pd.concat([north,central,east,west,south,vidarbha], ignore_index=True, sort=False)"
   ]
  },
  {
   "cell_type": "code",
   "execution_count": 110,
   "id": "7ccce476",
   "metadata": {},
   "outputs": [],
   "source": [
    "cement['dup_number'] = cement.groupby(['Unit']).cumcount()+1\n"
   ]
  },
  {
   "cell_type": "code",
   "execution_count": 111,
   "id": "b8a8db5d",
   "metadata": {},
   "outputs": [],
   "source": [
    "#cement.rename(columns = {'NORTH':'Summary'}, inplace = True)\n",
    "cement['Unit'] = cement['Unit'].str.replace('NORTH', 'Summary')"
   ]
  },
  {
   "cell_type": "code",
   "execution_count": 112,
   "id": "59dd7219",
   "metadata": {},
   "outputs": [],
   "source": [
    "#cement.rename(columns = {'NORTH':'Summary'}, inplace = True)\n",
    "cement['Unit'] = cement['Unit'].str.replace('SOUTH', 'Summary')"
   ]
  },
  {
   "cell_type": "code",
   "execution_count": 113,
   "id": "0aa3506e",
   "metadata": {},
   "outputs": [],
   "source": [
    "#cement.rename(columns = {'NORTH':'Summary'}, inplace = True)\n",
    "cement['Unit'] = cement['Unit'].str.replace('EAST', 'Summary')"
   ]
  },
  {
   "cell_type": "code",
   "execution_count": 114,
   "id": "07a34bcc",
   "metadata": {},
   "outputs": [],
   "source": [
    "#cement.rename(columns = {'NORTH':'Summary'}, inplace = True)\n",
    "cement['Unit'] = cement['Unit'].str.replace('WEST', 'Summary')"
   ]
  },
  {
   "cell_type": "code",
   "execution_count": 115,
   "id": "de8f99d9",
   "metadata": {},
   "outputs": [],
   "source": [
    "#cement.rename(columns = {'NORTH':'Summary'}, inplace = True)\n",
    "cement['Unit'] = cement['Unit'].str.replace('UTIO', 'Summary')"
   ]
  },
  {
   "cell_type": "code",
   "execution_count": 116,
   "id": "63704c58",
   "metadata": {},
   "outputs": [],
   "source": [
    "#cement.rename(columns = {'NORTH':'Summary'}, inplace = True)\n",
    "cement['Unit'] = cement['Unit'].str.replace('VIDARBHA', 'Summary')"
   ]
  },
  {
   "cell_type": "code",
   "execution_count": 117,
   "id": "cba4a8d5",
   "metadata": {},
   "outputs": [],
   "source": [
    "#cement.rename(columns = {'NORTH':'Summary'}, inplace = True)\n",
    "cement['Unit'] = cement['Unit'].str.replace('CENTRAL', 'Summary')"
   ]
  },
  {
   "cell_type": "code",
   "execution_count": 118,
   "id": "a05373c7",
   "metadata": {},
   "outputs": [],
   "source": [
    "cement['Prod_type']='Cement'"
   ]
  },
  {
   "cell_type": "code",
   "execution_count": 119,
   "id": "117a72ed",
   "metadata": {},
   "outputs": [],
   "source": [
    "cement['Remark by User'] = cement['Remark by User'].replace(['none'],np.nan)"
   ]
  },
  {
   "cell_type": "code",
   "execution_count": 120,
   "id": "27bf745d",
   "metadata": {},
   "outputs": [],
   "source": [
    "cement=cement.ffill(axis = 1)"
   ]
  },
  {
   "cell_type": "markdown",
   "id": "8abf4882",
   "metadata": {},
   "source": [
    "# TPP & WHRS Dataset Processing"
   ]
  },
  {
   "cell_type": "code",
   "execution_count": 121,
   "id": "24d7d67e",
   "metadata": {},
   "outputs": [],
   "source": [
    "tw = pd.read_excel (\"C:\\\\Users\\\\jaideep.naroo-st\\\\Documents\\\\DMD Dashboard - Production n Dispatch - UTCL.xlsx\",sheet_name='TPP WHRS')\n",
    "tw.to_csv (\"C:\\\\Users\\\\jaideep.naroo-st\\\\Documents\\\\tpp.csv\", index = None,header=True)\n",
    "tw= pd.DataFrame(pd.read_csv(\"C:\\\\Users\\\\jaideep.naroo-st\\\\Documents\\\\tpp.csv\"))"
   ]
  },
  {
   "cell_type": "code",
   "execution_count": 122,
   "id": "c6bc7eae",
   "metadata": {},
   "outputs": [
    {
     "data": {
      "text/plain": [
       "Index(['\\n\\t\\t\\t\\t\\t\\t\\t\\t\\t\\t\\t\\t\\t\\t\\t\\t\\t\\t\\t\\t\\t', 'Unnamed: 1',\n",
       "       'Unnamed: 2', 'Unnamed: 3', 'Unnamed: 4', 'Unnamed: 5', 'Unnamed: 6',\n",
       "       'Unnamed: 7', 'Unnamed: 8', 'Unnamed: 9', 'Unnamed: 10', 'Unnamed: 11',\n",
       "       'Unnamed: 12', 'Unnamed: 13', 'Unnamed: 14', 'Unnamed: 15',\n",
       "       'Unnamed: 16', 'Unnamed: 17', 'Unnamed: 18', 'Unnamed: 19',\n",
       "       'Unnamed: 20', 'Unnamed: 21', 'Unnamed: 22', 'Unnamed: 23',\n",
       "       'Unnamed: 24', 'Unnamed: 25'],\n",
       "      dtype='object')"
      ]
     },
     "execution_count": 122,
     "metadata": {},
     "output_type": "execute_result"
    }
   ],
   "source": [
    "tw.columns"
   ]
  },
  {
   "cell_type": "code",
   "execution_count": 123,
   "id": "19405893",
   "metadata": {},
   "outputs": [],
   "source": [
    "tw.drop(labels=['Unnamed: 1',\n",
    "       'Unnamed: 2', 'Unnamed: 3', 'Unnamed: 6',\n",
    "       'Unnamed: 7', 'Unnamed: 8', 'Unnamed: 9', 'Unnamed: 10', 'Unnamed: 11',\n",
    "       'Unnamed: 12', 'Unnamed: 13', 'Unnamed: 14', 'Unnamed: 15',\n",
    "       'Unnamed: 16', 'Unnamed: 17', 'Unnamed: 18', 'Unnamed: 19',\n",
    "       'Unnamed: 20', 'Unnamed: 21', 'Unnamed: 22', 'Unnamed: 23',\n",
    "       'Unnamed: 24', 'Unnamed: 25'], axis=1, inplace=True)"
   ]
  },
  {
   "cell_type": "code",
   "execution_count": 124,
   "id": "bacdd6e7",
   "metadata": {},
   "outputs": [],
   "source": [
    "tw.rename(columns = {'\\n\\t\\t\\t\\t\\t\\t\\t\\t\\t\\t\\t\\t\\t\\t\\t\\t\\t\\t\\t\\t\\t':tw.loc[3,'\\n\\t\\t\\t\\t\\t\\t\\t\\t\\t\\t\\t\\t\\t\\t\\t\\t\\t\\t\\t\\t\\t'],\n",
    "                     'Unnamed: 4':tw.loc[3,'Unnamed: 4'],\n",
    "                     'Unnamed: 5':tw.loc[3,'Unnamed: 5']}, inplace = True)"
   ]
  },
  {
   "cell_type": "code",
   "execution_count": null,
   "id": "793527c6",
   "metadata": {},
   "outputs": [],
   "source": []
  },
  {
   "cell_type": "code",
   "execution_count": 125,
   "id": "c71a6b81",
   "metadata": {},
   "outputs": [],
   "source": [
    "tw['DateTime'] = tw.loc[1,'Plant']"
   ]
  },
  {
   "cell_type": "code",
   "execution_count": 126,
   "id": "59dbf517",
   "metadata": {},
   "outputs": [],
   "source": [
    "tw.drop([0,1,2,3],axis=0,inplace=True)"
   ]
  },
  {
   "cell_type": "code",
   "execution_count": 127,
   "id": "1f8b4cba",
   "metadata": {},
   "outputs": [],
   "source": [
    "tw.drop([125],axis=0,inplace=True)"
   ]
  },
  {
   "cell_type": "code",
   "execution_count": 128,
   "id": "5855b03b",
   "metadata": {},
   "outputs": [],
   "source": [
    "tw['Date1'] = pd.to_datetime(tw['DateTime']).dt.date"
   ]
  },
  {
   "cell_type": "code",
   "execution_count": 129,
   "id": "0946dabd",
   "metadata": {},
   "outputs": [],
   "source": [
    "tw.drop(labels=['DateTime'], axis=1, inplace=True)"
   ]
  },
  {
   "cell_type": "code",
   "execution_count": 130,
   "id": "34751fbb",
   "metadata": {},
   "outputs": [],
   "source": [
    "tw['Date1'] = pd.to_datetime(tw.Date1)\n",
    "tw['Date'] = tw['Date1'].dt.strftime('%d/%m/%Y')"
   ]
  },
  {
   "cell_type": "code",
   "execution_count": 131,
   "id": "faf9a881",
   "metadata": {},
   "outputs": [],
   "source": [
    "tw.drop(labels=['Date1'], axis=1, inplace=True)"
   ]
  },
  {
   "cell_type": "code",
   "execution_count": 132,
   "id": "35411dd9",
   "metadata": {},
   "outputs": [],
   "source": [
    "tp=tw.iloc[0:76]"
   ]
  },
  {
   "cell_type": "code",
   "execution_count": 133,
   "id": "6381dd9a",
   "metadata": {},
   "outputs": [],
   "source": [
    "whrs=tw.iloc[81:120]"
   ]
  },
  {
   "cell_type": "code",
   "execution_count": 134,
   "id": "fc2ed52f",
   "metadata": {},
   "outputs": [],
   "source": [
    "index_names = tp[ tp['Plant'] == 'CPTG01' ].index\n",
    "index_names2 = tp[ tp['Plant'] == 'CPTG02' ].index\n",
    "index_names3 = tp[ tp['Plant'] == 'CPTG03' ].index\n",
    "index_names4 = tp[ tp['Plant'] == 'CPTG04' ].index\n",
    "index_names5 = tp[ tp['Plant'] == 'CPTG05' ].index"
   ]
  },
  {
   "cell_type": "code",
   "execution_count": 135,
   "id": "a8f6cf12",
   "metadata": {},
   "outputs": [
    {
     "name": "stderr",
     "output_type": "stream",
     "text": [
      "C:\\Users\\jaideep.naroo-st\\AppData\\Local\\Temp\\ipykernel_8068\\3436083997.py:1: SettingWithCopyWarning: \n",
      "A value is trying to be set on a copy of a slice from a DataFrame\n",
      "\n",
      "See the caveats in the documentation: https://pandas.pydata.org/pandas-docs/stable/user_guide/indexing.html#returning-a-view-versus-a-copy\n",
      "  tp.drop(index_names, inplace = True)\n",
      "C:\\Users\\jaideep.naroo-st\\AppData\\Local\\Temp\\ipykernel_8068\\3436083997.py:2: SettingWithCopyWarning: \n",
      "A value is trying to be set on a copy of a slice from a DataFrame\n",
      "\n",
      "See the caveats in the documentation: https://pandas.pydata.org/pandas-docs/stable/user_guide/indexing.html#returning-a-view-versus-a-copy\n",
      "  tp.drop(index_names2, inplace = True)\n",
      "C:\\Users\\jaideep.naroo-st\\AppData\\Local\\Temp\\ipykernel_8068\\3436083997.py:3: SettingWithCopyWarning: \n",
      "A value is trying to be set on a copy of a slice from a DataFrame\n",
      "\n",
      "See the caveats in the documentation: https://pandas.pydata.org/pandas-docs/stable/user_guide/indexing.html#returning-a-view-versus-a-copy\n",
      "  tp.drop(index_names3, inplace = True)\n",
      "C:\\Users\\jaideep.naroo-st\\AppData\\Local\\Temp\\ipykernel_8068\\3436083997.py:4: SettingWithCopyWarning: \n",
      "A value is trying to be set on a copy of a slice from a DataFrame\n",
      "\n",
      "See the caveats in the documentation: https://pandas.pydata.org/pandas-docs/stable/user_guide/indexing.html#returning-a-view-versus-a-copy\n",
      "  tp.drop(index_names4, inplace = True)\n",
      "C:\\Users\\jaideep.naroo-st\\AppData\\Local\\Temp\\ipykernel_8068\\3436083997.py:5: SettingWithCopyWarning: \n",
      "A value is trying to be set on a copy of a slice from a DataFrame\n",
      "\n",
      "See the caveats in the documentation: https://pandas.pydata.org/pandas-docs/stable/user_guide/indexing.html#returning-a-view-versus-a-copy\n",
      "  tp.drop(index_names5, inplace = True)\n"
     ]
    }
   ],
   "source": [
    "tp.drop(index_names, inplace = True)\n",
    "tp.drop(index_names2, inplace = True)\n",
    "tp.drop(index_names3, inplace = True)\n",
    "tp.drop(index_names4, inplace = True)\n",
    "tp.drop(index_names5, inplace = True)"
   ]
  },
  {
   "cell_type": "code",
   "execution_count": 136,
   "id": "aedd8b06",
   "metadata": {},
   "outputs": [],
   "source": [
    "tp.reset_index(drop = True, inplace = True)"
   ]
  },
  {
   "cell_type": "code",
   "execution_count": 137,
   "id": "bf0241fc",
   "metadata": {},
   "outputs": [
    {
     "name": "stderr",
     "output_type": "stream",
     "text": [
      "C:\\Users\\jaideep.naroo-st\\AppData\\Local\\Temp\\ipykernel_8068\\494668982.py:1: SettingWithCopyWarning: \n",
      "A value is trying to be set on a copy of a slice from a DataFrame.\n",
      "Try using .loc[row_indexer,col_indexer] = value instead\n",
      "\n",
      "See the caveats in the documentation: https://pandas.pydata.org/pandas-docs/stable/user_guide/indexing.html#returning-a-view-versus-a-copy\n",
      "  tp['Type']= 'TPP'\n"
     ]
    }
   ],
   "source": [
    "tp['Type']= 'TPP'"
   ]
  },
  {
   "cell_type": "code",
   "execution_count": 138,
   "id": "a339ad86",
   "metadata": {},
   "outputs": [],
   "source": [
    "index_names1 = whrs[ whrs['Plant'] == 'CPHR01' ].index\n",
    "index_names12 = whrs[ whrs['Plant'] == 'CPHR02' ].index"
   ]
  },
  {
   "cell_type": "code",
   "execution_count": 139,
   "id": "faeb3f6d",
   "metadata": {},
   "outputs": [
    {
     "name": "stderr",
     "output_type": "stream",
     "text": [
      "C:\\Users\\jaideep.naroo-st\\AppData\\Local\\Temp\\ipykernel_8068\\139803838.py:1: SettingWithCopyWarning: \n",
      "A value is trying to be set on a copy of a slice from a DataFrame\n",
      "\n",
      "See the caveats in the documentation: https://pandas.pydata.org/pandas-docs/stable/user_guide/indexing.html#returning-a-view-versus-a-copy\n",
      "  whrs.drop(index_names1, inplace = True)\n",
      "C:\\Users\\jaideep.naroo-st\\AppData\\Local\\Temp\\ipykernel_8068\\139803838.py:2: SettingWithCopyWarning: \n",
      "A value is trying to be set on a copy of a slice from a DataFrame\n",
      "\n",
      "See the caveats in the documentation: https://pandas.pydata.org/pandas-docs/stable/user_guide/indexing.html#returning-a-view-versus-a-copy\n",
      "  whrs.drop(index_names12, inplace = True)\n"
     ]
    }
   ],
   "source": [
    "whrs.drop(index_names1, inplace = True)\n",
    "whrs.drop(index_names12, inplace = True)"
   ]
  },
  {
   "cell_type": "code",
   "execution_count": 140,
   "id": "404e9b12",
   "metadata": {},
   "outputs": [],
   "source": [
    "whrs.reset_index(drop = True, inplace = True)"
   ]
  },
  {
   "cell_type": "code",
   "execution_count": 141,
   "id": "8b61207d",
   "metadata": {
    "scrolled": true
   },
   "outputs": [
    {
     "name": "stderr",
     "output_type": "stream",
     "text": [
      "C:\\Users\\jaideep.naroo-st\\AppData\\Local\\Temp\\ipykernel_8068\\778577464.py:1: SettingWithCopyWarning: \n",
      "A value is trying to be set on a copy of a slice from a DataFrame.\n",
      "Try using .loc[row_indexer,col_indexer] = value instead\n",
      "\n",
      "See the caveats in the documentation: https://pandas.pydata.org/pandas-docs/stable/user_guide/indexing.html#returning-a-view-versus-a-copy\n",
      "  whrs['Type']= 'WHRS'\n"
     ]
    }
   ],
   "source": [
    "whrs['Type']= 'WHRS'"
   ]
  },
  {
   "cell_type": "code",
   "execution_count": 142,
   "id": "29d397dd",
   "metadata": {},
   "outputs": [],
   "source": [
    "tpwA=tp.merge(whrs[['Plant','Budget','Today','Type']], on = 'Plant', how = 'left')"
   ]
  },
  {
   "cell_type": "code",
   "execution_count": 143,
   "id": "27b378f9",
   "metadata": {},
   "outputs": [],
   "source": [
    "tpw=tp.merge(whrs[['Plant','Budget','Today','Type']], on = 'Plant', how = 'inner')#inner"
   ]
  },
  {
   "cell_type": "code",
   "execution_count": 144,
   "id": "8bcaf606",
   "metadata": {},
   "outputs": [
    {
     "name": "stderr",
     "output_type": "stream",
     "text": [
      "C:\\Users\\jaideep.naroo-st\\AppData\\Local\\Temp\\ipykernel_8068\\3213968143.py:1: SettingWithCopyWarning: \n",
      "A value is trying to be set on a copy of a slice from a DataFrame\n",
      "\n",
      "See the caveats in the documentation: https://pandas.pydata.org/pandas-docs/stable/user_guide/indexing.html#returning-a-view-versus-a-copy\n",
      "  whrs.rename(columns = {'Budget':'Budget(Whrs)'}, inplace = True)\n",
      "C:\\Users\\jaideep.naroo-st\\AppData\\Local\\Temp\\ipykernel_8068\\3213968143.py:2: SettingWithCopyWarning: \n",
      "A value is trying to be set on a copy of a slice from a DataFrame\n",
      "\n",
      "See the caveats in the documentation: https://pandas.pydata.org/pandas-docs/stable/user_guide/indexing.html#returning-a-view-versus-a-copy\n",
      "  whrs.rename(columns = {'Today':'Today(Whrs)'}, inplace = True)\n",
      "C:\\Users\\jaideep.naroo-st\\AppData\\Local\\Temp\\ipykernel_8068\\3213968143.py:3: SettingWithCopyWarning: \n",
      "A value is trying to be set on a copy of a slice from a DataFrame\n",
      "\n",
      "See the caveats in the documentation: https://pandas.pydata.org/pandas-docs/stable/user_guide/indexing.html#returning-a-view-versus-a-copy\n",
      "  whrs.rename(columns = {'Type':'Type(Whrs)'}, inplace = True)\n"
     ]
    }
   ],
   "source": [
    "whrs.rename(columns = {'Budget':'Budget(Whrs)'}, inplace = True)\n",
    "whrs.rename(columns = {'Today':'Today(Whrs)'}, inplace = True)\n",
    "whrs.rename(columns = {'Type':'Type(Whrs)'}, inplace = True)"
   ]
  },
  {
   "cell_type": "code",
   "execution_count": 145,
   "id": "9a46ea5d",
   "metadata": {},
   "outputs": [],
   "source": [
    "tpwA.rename(columns = {'Budget_x':'Budget(TPP)'}, inplace = True)\n",
    "tpwA.rename(columns = {'Today_x':'Today(TPP)'}, inplace = True)\n",
    "tpwA.rename(columns = {'Type_x':'Type(TPP)'}, inplace = True)\n",
    "tpwA.rename(columns = {'Budget_y':'Budget(Whrs)'}, inplace = True)\n",
    "tpwA.rename(columns = {'Today_y':'Today(Whrs)'}, inplace = True)\n",
    "tpwA.rename(columns = {'Type_y':'Type(Whrs)'}, inplace = True)"
   ]
  },
  {
   "cell_type": "code",
   "execution_count": 146,
   "id": "56831c07",
   "metadata": {},
   "outputs": [],
   "source": [
    "entry = whrs.loc[whrs['Plant'] == 'DHCW']"
   ]
  },
  {
   "cell_type": "code",
   "execution_count": 147,
   "id": "810da113",
   "metadata": {},
   "outputs": [
    {
     "data": {
      "text/html": [
       "<div>\n",
       "<style scoped>\n",
       "    .dataframe tbody tr th:only-of-type {\n",
       "        vertical-align: middle;\n",
       "    }\n",
       "\n",
       "    .dataframe tbody tr th {\n",
       "        vertical-align: top;\n",
       "    }\n",
       "\n",
       "    .dataframe thead th {\n",
       "        text-align: right;\n",
       "    }\n",
       "</style>\n",
       "<table border=\"1\" class=\"dataframe\">\n",
       "  <thead>\n",
       "    <tr style=\"text-align: right;\">\n",
       "      <th></th>\n",
       "      <th>Plant</th>\n",
       "      <th>Budget(Whrs)</th>\n",
       "      <th>Today(Whrs)</th>\n",
       "      <th>Date</th>\n",
       "      <th>Type(Whrs)</th>\n",
       "    </tr>\n",
       "  </thead>\n",
       "  <tbody>\n",
       "    <tr>\n",
       "      <th>2</th>\n",
       "      <td>DHCW</td>\n",
       "      <td>73.5648417</td>\n",
       "      <td>2.12665</td>\n",
       "      <td>21/07/2022</td>\n",
       "      <td>WHRS</td>\n",
       "    </tr>\n",
       "  </tbody>\n",
       "</table>\n",
       "</div>"
      ],
      "text/plain": [
       "  Plant Budget(Whrs) Today(Whrs)        Date Type(Whrs)\n",
       "2  DHCW   73.5648417     2.12665  21/07/2022       WHRS"
      ]
     },
     "execution_count": 147,
     "metadata": {},
     "output_type": "execute_result"
    }
   ],
   "source": [
    "entry"
   ]
  },
  {
   "cell_type": "code",
   "execution_count": 148,
   "id": "1fc62cac",
   "metadata": {},
   "outputs": [],
   "source": [
    "A=tpwA.fillna(0)"
   ]
  },
  {
   "cell_type": "code",
   "execution_count": 149,
   "id": "2a4ce17d",
   "metadata": {},
   "outputs": [],
   "source": [
    "z = pd.concat([A,entry], ignore_index=True, sort=False)"
   ]
  },
  {
   "cell_type": "code",
   "execution_count": 150,
   "id": "9a52fa85",
   "metadata": {},
   "outputs": [],
   "source": [
    "z=z.fillna(0)"
   ]
  },
  {
   "cell_type": "code",
   "execution_count": 151,
   "id": "4041ff7a",
   "metadata": {},
   "outputs": [],
   "source": [
    "z['Prod_type']= 'Clinker'"
   ]
  },
  {
   "cell_type": "code",
   "execution_count": 152,
   "id": "bef6d59b",
   "metadata": {},
   "outputs": [],
   "source": [
    "z.loc[4,'Region']='North'\n",
    "z.loc[10,'Region']='Central'\n",
    "z.loc[14,'Region']='East'\n",
    "z.loc[17,'Region']='West'\n",
    "z.loc[22,'Region']='South'\n",
    "z.loc[26,'Region']='Vidarbha'\n",
    "z.loc[27,'Region']='North'"
   ]
  },
  {
   "cell_type": "code",
   "execution_count": 153,
   "id": "b7a44267",
   "metadata": {},
   "outputs": [],
   "source": [
    "z[\"Region\"].bfill(inplace=True)"
   ]
  },
  {
   "cell_type": "code",
   "execution_count": 154,
   "id": "3a407681",
   "metadata": {},
   "outputs": [],
   "source": [
    "z.rename(columns = {'Region':'Plant'}, inplace = True)"
   ]
  },
  {
   "cell_type": "markdown",
   "id": "01bc0065",
   "metadata": {},
   "source": [
    "# Tpp Whrs commentary generation"
   ]
  },
  {
   "cell_type": "code",
   "execution_count": 155,
   "id": "411e8748",
   "metadata": {},
   "outputs": [],
   "source": [
    "import pandas as pd\n",
    "z.to_csv('tpwh.csv', index=False)\n",
    "z=pd.read_csv(\"tpwh.csv\")"
   ]
  },
  {
   "cell_type": "code",
   "execution_count": 156,
   "id": "e0b90b91",
   "metadata": {},
   "outputs": [],
   "source": [
    "sys_df=pd.read_csv('tpwh.csv', sep=',')\n",
    "json_output = r'TPWH.json'\n",
    "output= sys_df.to_json(json_output,indent=1,orient='records')"
   ]
  },
  {
   "cell_type": "code",
   "execution_count": 157,
   "id": "a545dba0",
   "metadata": {},
   "outputs": [],
   "source": [
    "import sys\n",
    "\n",
    "stdoutOrigin=sys.stdout\n",
    "sys.stdout= open(\"cv1.txt\",\"w\")"
   ]
  },
  {
   "cell_type": "code",
   "execution_count": 158,
   "id": "4862cc07",
   "metadata": {},
   "outputs": [],
   "source": [
    "import random\n",
    "def Tpwh_value(pl,bu,td,tp,bu1,td1,tp1):\n",
    "    tpwh_list=[]\n",
    "    my_tpwh=[]\n",
    "    \n",
    "    if td1==0.00000 and td==0.00000 :\n",
    "        tpwh_list.append('No TPP & WHRS Gross Generation') \n",
    "    elif td1==0.00000:\n",
    "        tpwh_list.append('The TPP Gross Generation was  '+ str(td)+' lac/kwh against budget '+str(bu)+' lac/kwh')\n",
    "    elif td==0.00000:\n",
    "        tpwh_list.append('The WHRS Gross Generation was '+ str(td1)+ ' lac/kwh against budget '+str(bu1)+' lac/kwh')\n",
    "    elif tp1==None:\n",
    "        tpwh_list.append('TPP Gross Generation '+ str(td)+' lac/kwh against budget '+str(bu)+' lac/kwh') \n",
    "    else:\n",
    "        tpwh_list.append('TPP Gross generation was '+str(td)+' lac/kwh against budget '+str(bu)+' lac/kwh. WHRS Gross Generation was '+ str(td1)+' lac/kwh against budget '+str(bu1)+' lac/kwh')\n",
    "        \n",
    "    my_tpwh = random.choice(tpwh_list)\n",
    "    return my_tpwh"
   ]
  },
  {
   "cell_type": "code",
   "execution_count": 159,
   "id": "70a02a04",
   "metadata": {},
   "outputs": [
    {
     "data": {
      "text/plain": [
       "28"
      ]
     },
     "execution_count": 159,
     "metadata": {},
     "output_type": "execute_result"
    }
   ],
   "source": [
    "rows = len(z.axes[0])\n",
    "s = int(rows)\n",
    "s"
   ]
  },
  {
   "cell_type": "code",
   "execution_count": 160,
   "id": "8c0e80f5",
   "metadata": {
    "scrolled": true
   },
   "outputs": [],
   "source": [
    "print('Commentary')\n",
    "import json\n",
    "filenamez = 'TPWH.json'\n",
    "figure_dictz = []\n",
    "text_dictz = []\n",
    "with open(filenamez) as f:\n",
    "    json_dataz = json.load(f)\n",
    "    \n",
    "    for i in range(0, s):\n",
    "        figure_infoz = json_dataz[i]\n",
    "        \n",
    "        pl = figure_infoz[\"Plant\"]\n",
    "        bu = figure_infoz[\"Budget(TPP)\"]\n",
    "        td = figure_infoz[\"Today(TPP)\"]\n",
    "        tp = figure_infoz[\"Type(TPP)\"]\n",
    "        bu1 = figure_infoz[\"Budget(Whrs)\"]\n",
    "        td1 = figure_infoz[\"Today(Whrs)\"]\n",
    "        tp1 = figure_infoz[\"Type(Whrs)\"]\n",
    "\n",
    "           \n",
    "\n",
    "        htext =Tpwh_value(pl,bu,td,tp,bu1,td1,tp1)\n",
    "         \n",
    "        dict_itemz = {\"Plant\":pl,\"Budget(TPP)\":bu,\"Today(TPP)\":td,\"Type(TPP)\":tp,\"Budget(Whrs)\":bu1,\"Today(TPP)\":td1,\"Ty\":tp1}\n",
    "        #print('%s:'%pl,htext)\n",
    "        print(htext)\n",
    "        print('\\n')"
   ]
  },
  {
   "cell_type": "code",
   "execution_count": 161,
   "id": "0e91aee0",
   "metadata": {},
   "outputs": [],
   "source": [
    "sys.stdout.close()\n",
    "sys.stdout=stdoutOrigin"
   ]
  },
  {
   "cell_type": "code",
   "execution_count": 162,
   "id": "98457071",
   "metadata": {},
   "outputs": [
    {
     "data": {
      "text/plain": [
       "29"
      ]
     },
     "execution_count": 162,
     "metadata": {},
     "output_type": "execute_result"
    }
   ],
   "source": [
    "o=s+1\n",
    "o"
   ]
  },
  {
   "cell_type": "code",
   "execution_count": 163,
   "id": "b6c3fff4",
   "metadata": {},
   "outputs": [],
   "source": [
    "import numpy as np\n",
    "import pandas as pd\n",
    "\n",
    "x = np.loadtxt('cv1.txt',delimiter = '\\n\\n', dtype=str)\n",
    "reshaped = x.reshape(-1,o).T\n",
    "f = pd.DataFrame(data = reshaped[1:,:], columns = reshaped[0])"
   ]
  },
  {
   "cell_type": "code",
   "execution_count": 164,
   "id": "d7754f51",
   "metadata": {},
   "outputs": [],
   "source": [
    "Tppwhrs=pd.merge(z, f, left_index=True, right_index=True)"
   ]
  },
  {
   "cell_type": "code",
   "execution_count": 165,
   "id": "19ff873a",
   "metadata": {},
   "outputs": [],
   "source": [
    "Tppwhrs.rename(columns = {'Plant':'Unit'}, inplace = True)\n",
    "Tppwhrs.rename(columns = {'Budget(TPP)':'Budget'}, inplace = True)\n",
    "Tppwhrs.rename(columns = {'Today(TPP)':'Today'}, inplace = True)\n",
    "#Tppwhrs.rename(columns = {'Commentary':'Comm'}, inplace = True)\n",
    "Tppwhrs.rename(columns = {'Plant.1':'Plant'}, inplace = True)"
   ]
  },
  {
   "cell_type": "code",
   "execution_count": 166,
   "id": "9e9c7e6b",
   "metadata": {},
   "outputs": [],
   "source": [
    "Tppwhrs['Avg MTD']=0\n",
    "Tppwhrs['Var']=0\n",
    "Tppwhrs['Workcentre']=\"none\"\n",
    "new_colsA = [\"Unit\",\"Date\",\"Budget\",\"Today\",\"Avg MTD\",\"Var\",\"Workcentre\",\"Plant\",\"Prod_type\",\"Commentary\",\"Type(TPP)\"]\n",
    "Tppwhrs=Tppwhrs[new_colsA]\n"
   ]
  },
  {
   "cell_type": "code",
   "execution_count": 167,
   "id": "04396b10",
   "metadata": {},
   "outputs": [
    {
     "data": {
      "text/html": [
       "<div>\n",
       "<style scoped>\n",
       "    .dataframe tbody tr th:only-of-type {\n",
       "        vertical-align: middle;\n",
       "    }\n",
       "\n",
       "    .dataframe tbody tr th {\n",
       "        vertical-align: top;\n",
       "    }\n",
       "\n",
       "    .dataframe thead th {\n",
       "        text-align: right;\n",
       "    }\n",
       "</style>\n",
       "<table border=\"1\" class=\"dataframe\">\n",
       "  <thead>\n",
       "    <tr style=\"text-align: right;\">\n",
       "      <th></th>\n",
       "      <th>Unit</th>\n",
       "      <th>Date</th>\n",
       "      <th>Budget</th>\n",
       "      <th>Today</th>\n",
       "      <th>Avg MTD</th>\n",
       "      <th>Var</th>\n",
       "      <th>Workcentre</th>\n",
       "      <th>Plant</th>\n",
       "      <th>Prod_type</th>\n",
       "      <th>Commentary</th>\n",
       "      <th>Type(TPP)</th>\n",
       "    </tr>\n",
       "  </thead>\n",
       "  <tbody>\n",
       "    <tr>\n",
       "      <th>0</th>\n",
       "      <td>AC</td>\n",
       "      <td>21/07/2022</td>\n",
       "      <td>202.200000</td>\n",
       "      <td>5.41168</td>\n",
       "      <td>0</td>\n",
       "      <td>0</td>\n",
       "      <td>none</td>\n",
       "      <td>North</td>\n",
       "      <td>Clinker</td>\n",
       "      <td>TPP Gross generation was 5.41168 lac/kwh again...</td>\n",
       "      <td>TPP</td>\n",
       "    </tr>\n",
       "    <tr>\n",
       "      <th>1</th>\n",
       "      <td>VC</td>\n",
       "      <td>21/07/2022</td>\n",
       "      <td>134.970134</td>\n",
       "      <td>3.74200</td>\n",
       "      <td>0</td>\n",
       "      <td>0</td>\n",
       "      <td>none</td>\n",
       "      <td>North</td>\n",
       "      <td>Clinker</td>\n",
       "      <td>The TPP Gross Generation was  3.742 lac/kwh ag...</td>\n",
       "      <td>TPP</td>\n",
       "    </tr>\n",
       "    <tr>\n",
       "      <th>2</th>\n",
       "      <td>KCW</td>\n",
       "      <td>21/07/2022</td>\n",
       "      <td>79.130304</td>\n",
       "      <td>0.00000</td>\n",
       "      <td>0</td>\n",
       "      <td>0</td>\n",
       "      <td>none</td>\n",
       "      <td>North</td>\n",
       "      <td>Clinker</td>\n",
       "      <td>The WHRS Gross Generation was 3.29349 lac/kwh ...</td>\n",
       "      <td>TPP</td>\n",
       "    </tr>\n",
       "    <tr>\n",
       "      <th>3</th>\n",
       "      <td>NDCW</td>\n",
       "      <td>21/07/2022</td>\n",
       "      <td>286.198200</td>\n",
       "      <td>5.08032</td>\n",
       "      <td>0</td>\n",
       "      <td>0</td>\n",
       "      <td>none</td>\n",
       "      <td>North</td>\n",
       "      <td>Clinker</td>\n",
       "      <td>TPP Gross generation was 5.08032 lac/kwh again...</td>\n",
       "      <td>TPP</td>\n",
       "    </tr>\n",
       "    <tr>\n",
       "      <th>4</th>\n",
       "      <td>NORTH</td>\n",
       "      <td>21/07/2022</td>\n",
       "      <td>702.498638</td>\n",
       "      <td>14.23400</td>\n",
       "      <td>0</td>\n",
       "      <td>0</td>\n",
       "      <td>none</td>\n",
       "      <td>North</td>\n",
       "      <td>Clinker</td>\n",
       "      <td>TPP Gross generation was 14.234 lac/kwh agains...</td>\n",
       "      <td>TPP</td>\n",
       "    </tr>\n",
       "    <tr>\n",
       "      <th>5</th>\n",
       "      <td>BLCW</td>\n",
       "      <td>21/07/2022</td>\n",
       "      <td>84.084350</td>\n",
       "      <td>3.80000</td>\n",
       "      <td>0</td>\n",
       "      <td>0</td>\n",
       "      <td>none</td>\n",
       "      <td>Central</td>\n",
       "      <td>Clinker</td>\n",
       "      <td>TPP Gross generation was 3.8 lac/kwh against b...</td>\n",
       "      <td>TPP</td>\n",
       "    </tr>\n",
       "    <tr>\n",
       "      <th>6</th>\n",
       "      <td>SDCW</td>\n",
       "      <td>21/07/2022</td>\n",
       "      <td>184.403820</td>\n",
       "      <td>4.06000</td>\n",
       "      <td>0</td>\n",
       "      <td>0</td>\n",
       "      <td>none</td>\n",
       "      <td>Central</td>\n",
       "      <td>Clinker</td>\n",
       "      <td>The TPP Gross Generation was  4.06 lac/kwh aga...</td>\n",
       "      <td>TPP</td>\n",
       "    </tr>\n",
       "    <tr>\n",
       "      <th>7</th>\n",
       "      <td>DLCW</td>\n",
       "      <td>21/07/2022</td>\n",
       "      <td>77.627195</td>\n",
       "      <td>4.48000</td>\n",
       "      <td>0</td>\n",
       "      <td>0</td>\n",
       "      <td>none</td>\n",
       "      <td>Central</td>\n",
       "      <td>Clinker</td>\n",
       "      <td>TPP Gross generation was 4.48 lac/kwh against ...</td>\n",
       "      <td>TPP</td>\n",
       "    </tr>\n",
       "    <tr>\n",
       "      <th>8</th>\n",
       "      <td>DSCW</td>\n",
       "      <td>21/07/2022</td>\n",
       "      <td>0.000000</td>\n",
       "      <td>0.00000</td>\n",
       "      <td>0</td>\n",
       "      <td>0</td>\n",
       "      <td>none</td>\n",
       "      <td>Central</td>\n",
       "      <td>Clinker</td>\n",
       "      <td>No TPP &amp; WHRS Gross Generation</td>\n",
       "      <td>TPP</td>\n",
       "    </tr>\n",
       "    <tr>\n",
       "      <th>9</th>\n",
       "      <td>MHCW</td>\n",
       "      <td>21/07/2022</td>\n",
       "      <td>193.200432</td>\n",
       "      <td>5.77000</td>\n",
       "      <td>0</td>\n",
       "      <td>0</td>\n",
       "      <td>none</td>\n",
       "      <td>Central</td>\n",
       "      <td>Clinker</td>\n",
       "      <td>TPP Gross generation was 5.77 lac/kwh against ...</td>\n",
       "      <td>TPP</td>\n",
       "    </tr>\n",
       "    <tr>\n",
       "      <th>10</th>\n",
       "      <td>CENTRAL</td>\n",
       "      <td>21/07/2022</td>\n",
       "      <td>539.315798</td>\n",
       "      <td>18.11000</td>\n",
       "      <td>0</td>\n",
       "      <td>0</td>\n",
       "      <td>none</td>\n",
       "      <td>Central</td>\n",
       "      <td>Clinker</td>\n",
       "      <td>TPP Gross generation was 18.11 lac/kwh against...</td>\n",
       "      <td>TPP</td>\n",
       "    </tr>\n",
       "    <tr>\n",
       "      <th>11</th>\n",
       "      <td>RWCW</td>\n",
       "      <td>21/07/2022</td>\n",
       "      <td>315.904692</td>\n",
       "      <td>3.98000</td>\n",
       "      <td>0</td>\n",
       "      <td>0</td>\n",
       "      <td>none</td>\n",
       "      <td>East</td>\n",
       "      <td>Clinker</td>\n",
       "      <td>TPP Gross generation was 3.98 lac/kwh against ...</td>\n",
       "      <td>TPP</td>\n",
       "    </tr>\n",
       "    <tr>\n",
       "      <th>12</th>\n",
       "      <td>HCW</td>\n",
       "      <td>21/07/2022</td>\n",
       "      <td>148.242000</td>\n",
       "      <td>0.00000</td>\n",
       "      <td>0</td>\n",
       "      <td>0</td>\n",
       "      <td>none</td>\n",
       "      <td>East</td>\n",
       "      <td>Clinker</td>\n",
       "      <td>The WHRS Gross Generation was 2.49458 lac/kwh ...</td>\n",
       "      <td>TPP</td>\n",
       "    </tr>\n",
       "    <tr>\n",
       "      <th>13</th>\n",
       "      <td>BKCW</td>\n",
       "      <td>21/07/2022</td>\n",
       "      <td>57.030218</td>\n",
       "      <td>4.68800</td>\n",
       "      <td>0</td>\n",
       "      <td>0</td>\n",
       "      <td>none</td>\n",
       "      <td>East</td>\n",
       "      <td>Clinker</td>\n",
       "      <td>The TPP Gross Generation was  4.688 lac/kwh ag...</td>\n",
       "      <td>TPP</td>\n",
       "    </tr>\n",
       "    <tr>\n",
       "      <th>14</th>\n",
       "      <td>EAST</td>\n",
       "      <td>21/07/2022</td>\n",
       "      <td>521.176910</td>\n",
       "      <td>8.66800</td>\n",
       "      <td>0</td>\n",
       "      <td>0</td>\n",
       "      <td>none</td>\n",
       "      <td>East</td>\n",
       "      <td>Clinker</td>\n",
       "      <td>TPP Gross generation was 8.668 lac/kwh against...</td>\n",
       "      <td>TPP</td>\n",
       "    </tr>\n",
       "    <tr>\n",
       "      <th>15</th>\n",
       "      <td>GCW</td>\n",
       "      <td>21/07/2022</td>\n",
       "      <td>389.448806</td>\n",
       "      <td>6.76400</td>\n",
       "      <td>0</td>\n",
       "      <td>0</td>\n",
       "      <td>none</td>\n",
       "      <td>West</td>\n",
       "      <td>Clinker</td>\n",
       "      <td>TPP Gross generation was 6.764 lac/kwh against...</td>\n",
       "      <td>TPP</td>\n",
       "    </tr>\n",
       "    <tr>\n",
       "      <th>16</th>\n",
       "      <td>SCW</td>\n",
       "      <td>21/07/2022</td>\n",
       "      <td>155.201274</td>\n",
       "      <td>5.40000</td>\n",
       "      <td>0</td>\n",
       "      <td>0</td>\n",
       "      <td>none</td>\n",
       "      <td>West</td>\n",
       "      <td>Clinker</td>\n",
       "      <td>The TPP Gross Generation was  5.4 lac/kwh agai...</td>\n",
       "      <td>TPP</td>\n",
       "    </tr>\n",
       "    <tr>\n",
       "      <th>17</th>\n",
       "      <td>WEST</td>\n",
       "      <td>21/07/2022</td>\n",
       "      <td>544.650081</td>\n",
       "      <td>12.16400</td>\n",
       "      <td>0</td>\n",
       "      <td>0</td>\n",
       "      <td>none</td>\n",
       "      <td>West</td>\n",
       "      <td>Clinker</td>\n",
       "      <td>TPP Gross generation was 12.164 lac/kwh agains...</td>\n",
       "      <td>TPP</td>\n",
       "    </tr>\n",
       "    <tr>\n",
       "      <th>18</th>\n",
       "      <td>RC</td>\n",
       "      <td>21/07/2022</td>\n",
       "      <td>339.431028</td>\n",
       "      <td>9.39923</td>\n",
       "      <td>0</td>\n",
       "      <td>0</td>\n",
       "      <td>none</td>\n",
       "      <td>South</td>\n",
       "      <td>Clinker</td>\n",
       "      <td>TPP Gross generation was 9.39923 lac/kwh again...</td>\n",
       "      <td>TPP</td>\n",
       "    </tr>\n",
       "    <tr>\n",
       "      <th>19</th>\n",
       "      <td>APCW</td>\n",
       "      <td>21/07/2022</td>\n",
       "      <td>376.333800</td>\n",
       "      <td>5.63000</td>\n",
       "      <td>0</td>\n",
       "      <td>0</td>\n",
       "      <td>none</td>\n",
       "      <td>South</td>\n",
       "      <td>Clinker</td>\n",
       "      <td>TPP Gross generation was 5.63 lac/kwh against ...</td>\n",
       "      <td>TPP</td>\n",
       "    </tr>\n",
       "    <tr>\n",
       "      <th>20</th>\n",
       "      <td>RDCW</td>\n",
       "      <td>21/07/2022</td>\n",
       "      <td>73.814100</td>\n",
       "      <td>2.22200</td>\n",
       "      <td>0</td>\n",
       "      <td>0</td>\n",
       "      <td>none</td>\n",
       "      <td>South</td>\n",
       "      <td>Clinker</td>\n",
       "      <td>The TPP Gross Generation was  2.222 lac/kwh ag...</td>\n",
       "      <td>TPP</td>\n",
       "    </tr>\n",
       "    <tr>\n",
       "      <th>21</th>\n",
       "      <td>BJCW</td>\n",
       "      <td>21/07/2022</td>\n",
       "      <td>174.198480</td>\n",
       "      <td>10.52528</td>\n",
       "      <td>0</td>\n",
       "      <td>0</td>\n",
       "      <td>none</td>\n",
       "      <td>South</td>\n",
       "      <td>Clinker</td>\n",
       "      <td>The TPP Gross Generation was  10.52528 lac/kwh...</td>\n",
       "      <td>TPP</td>\n",
       "    </tr>\n",
       "    <tr>\n",
       "      <th>22</th>\n",
       "      <td>SOUTH</td>\n",
       "      <td>21/07/2022</td>\n",
       "      <td>963.777408</td>\n",
       "      <td>27.77651</td>\n",
       "      <td>0</td>\n",
       "      <td>0</td>\n",
       "      <td>none</td>\n",
       "      <td>South</td>\n",
       "      <td>Clinker</td>\n",
       "      <td>TPP Gross generation was 27.77651 lac/kwh agai...</td>\n",
       "      <td>TPP</td>\n",
       "    </tr>\n",
       "    <tr>\n",
       "      <th>23</th>\n",
       "      <td>ACW</td>\n",
       "      <td>21/07/2022</td>\n",
       "      <td>215.932548</td>\n",
       "      <td>6.92640</td>\n",
       "      <td>0</td>\n",
       "      <td>0</td>\n",
       "      <td>none</td>\n",
       "      <td>Vidarbha</td>\n",
       "      <td>Clinker</td>\n",
       "      <td>TPP Gross generation was 6.9264 lac/kwh agains...</td>\n",
       "      <td>TPP</td>\n",
       "    </tr>\n",
       "    <tr>\n",
       "      <th>24</th>\n",
       "      <td>MKW1</td>\n",
       "      <td>21/07/2022</td>\n",
       "      <td>0.000000</td>\n",
       "      <td>2.10000</td>\n",
       "      <td>0</td>\n",
       "      <td>0</td>\n",
       "      <td>none</td>\n",
       "      <td>Vidarbha</td>\n",
       "      <td>Clinker</td>\n",
       "      <td>The TPP Gross Generation was  2.1 lac/kwh agai...</td>\n",
       "      <td>TPP</td>\n",
       "    </tr>\n",
       "    <tr>\n",
       "      <th>25</th>\n",
       "      <td>MKW2</td>\n",
       "      <td>21/07/2022</td>\n",
       "      <td>222.467803</td>\n",
       "      <td>4.71600</td>\n",
       "      <td>0</td>\n",
       "      <td>0</td>\n",
       "      <td>none</td>\n",
       "      <td>Vidarbha</td>\n",
       "      <td>Clinker</td>\n",
       "      <td>TPP Gross generation was 4.716 lac/kwh against...</td>\n",
       "      <td>TPP</td>\n",
       "    </tr>\n",
       "    <tr>\n",
       "      <th>26</th>\n",
       "      <td>VIDARBHA</td>\n",
       "      <td>21/07/2022</td>\n",
       "      <td>438.400351</td>\n",
       "      <td>13.74240</td>\n",
       "      <td>0</td>\n",
       "      <td>0</td>\n",
       "      <td>none</td>\n",
       "      <td>Vidarbha</td>\n",
       "      <td>Clinker</td>\n",
       "      <td>TPP Gross generation was 13.7424 lac/kwh again...</td>\n",
       "      <td>TPP</td>\n",
       "    </tr>\n",
       "    <tr>\n",
       "      <th>27</th>\n",
       "      <td>DHCW</td>\n",
       "      <td>21/07/2022</td>\n",
       "      <td>0.000000</td>\n",
       "      <td>0.00000</td>\n",
       "      <td>0</td>\n",
       "      <td>0</td>\n",
       "      <td>none</td>\n",
       "      <td>North</td>\n",
       "      <td>Clinker</td>\n",
       "      <td>The WHRS Gross Generation was 2.12665 lac/kwh ...</td>\n",
       "      <td>0</td>\n",
       "    </tr>\n",
       "  </tbody>\n",
       "</table>\n",
       "</div>"
      ],
      "text/plain": [
       "        Unit        Date      Budget     Today  Avg MTD  Var Workcentre  \\\n",
       "0         AC  21/07/2022  202.200000   5.41168        0    0       none   \n",
       "1         VC  21/07/2022  134.970134   3.74200        0    0       none   \n",
       "2        KCW  21/07/2022   79.130304   0.00000        0    0       none   \n",
       "3       NDCW  21/07/2022  286.198200   5.08032        0    0       none   \n",
       "4      NORTH  21/07/2022  702.498638  14.23400        0    0       none   \n",
       "5       BLCW  21/07/2022   84.084350   3.80000        0    0       none   \n",
       "6       SDCW  21/07/2022  184.403820   4.06000        0    0       none   \n",
       "7       DLCW  21/07/2022   77.627195   4.48000        0    0       none   \n",
       "8       DSCW  21/07/2022    0.000000   0.00000        0    0       none   \n",
       "9       MHCW  21/07/2022  193.200432   5.77000        0    0       none   \n",
       "10   CENTRAL  21/07/2022  539.315798  18.11000        0    0       none   \n",
       "11      RWCW  21/07/2022  315.904692   3.98000        0    0       none   \n",
       "12       HCW  21/07/2022  148.242000   0.00000        0    0       none   \n",
       "13      BKCW  21/07/2022   57.030218   4.68800        0    0       none   \n",
       "14      EAST  21/07/2022  521.176910   8.66800        0    0       none   \n",
       "15       GCW  21/07/2022  389.448806   6.76400        0    0       none   \n",
       "16       SCW  21/07/2022  155.201274   5.40000        0    0       none   \n",
       "17      WEST  21/07/2022  544.650081  12.16400        0    0       none   \n",
       "18        RC  21/07/2022  339.431028   9.39923        0    0       none   \n",
       "19      APCW  21/07/2022  376.333800   5.63000        0    0       none   \n",
       "20      RDCW  21/07/2022   73.814100   2.22200        0    0       none   \n",
       "21      BJCW  21/07/2022  174.198480  10.52528        0    0       none   \n",
       "22     SOUTH  21/07/2022  963.777408  27.77651        0    0       none   \n",
       "23       ACW  21/07/2022  215.932548   6.92640        0    0       none   \n",
       "24      MKW1  21/07/2022    0.000000   2.10000        0    0       none   \n",
       "25      MKW2  21/07/2022  222.467803   4.71600        0    0       none   \n",
       "26  VIDARBHA  21/07/2022  438.400351  13.74240        0    0       none   \n",
       "27      DHCW  21/07/2022    0.000000   0.00000        0    0       none   \n",
       "\n",
       "       Plant Prod_type                                         Commentary  \\\n",
       "0      North   Clinker  TPP Gross generation was 5.41168 lac/kwh again...   \n",
       "1      North   Clinker  The TPP Gross Generation was  3.742 lac/kwh ag...   \n",
       "2      North   Clinker  The WHRS Gross Generation was 3.29349 lac/kwh ...   \n",
       "3      North   Clinker  TPP Gross generation was 5.08032 lac/kwh again...   \n",
       "4      North   Clinker  TPP Gross generation was 14.234 lac/kwh agains...   \n",
       "5    Central   Clinker  TPP Gross generation was 3.8 lac/kwh against b...   \n",
       "6    Central   Clinker  The TPP Gross Generation was  4.06 lac/kwh aga...   \n",
       "7    Central   Clinker  TPP Gross generation was 4.48 lac/kwh against ...   \n",
       "8    Central   Clinker                     No TPP & WHRS Gross Generation   \n",
       "9    Central   Clinker  TPP Gross generation was 5.77 lac/kwh against ...   \n",
       "10   Central   Clinker  TPP Gross generation was 18.11 lac/kwh against...   \n",
       "11      East   Clinker  TPP Gross generation was 3.98 lac/kwh against ...   \n",
       "12      East   Clinker  The WHRS Gross Generation was 2.49458 lac/kwh ...   \n",
       "13      East   Clinker  The TPP Gross Generation was  4.688 lac/kwh ag...   \n",
       "14      East   Clinker  TPP Gross generation was 8.668 lac/kwh against...   \n",
       "15      West   Clinker  TPP Gross generation was 6.764 lac/kwh against...   \n",
       "16      West   Clinker  The TPP Gross Generation was  5.4 lac/kwh agai...   \n",
       "17      West   Clinker  TPP Gross generation was 12.164 lac/kwh agains...   \n",
       "18     South   Clinker  TPP Gross generation was 9.39923 lac/kwh again...   \n",
       "19     South   Clinker  TPP Gross generation was 5.63 lac/kwh against ...   \n",
       "20     South   Clinker  The TPP Gross Generation was  2.222 lac/kwh ag...   \n",
       "21     South   Clinker  The TPP Gross Generation was  10.52528 lac/kwh...   \n",
       "22     South   Clinker  TPP Gross generation was 27.77651 lac/kwh agai...   \n",
       "23  Vidarbha   Clinker  TPP Gross generation was 6.9264 lac/kwh agains...   \n",
       "24  Vidarbha   Clinker  The TPP Gross Generation was  2.1 lac/kwh agai...   \n",
       "25  Vidarbha   Clinker  TPP Gross generation was 4.716 lac/kwh against...   \n",
       "26  Vidarbha   Clinker  TPP Gross generation was 13.7424 lac/kwh again...   \n",
       "27     North   Clinker  The WHRS Gross Generation was 2.12665 lac/kwh ...   \n",
       "\n",
       "   Type(TPP)  \n",
       "0        TPP  \n",
       "1        TPP  \n",
       "2        TPP  \n",
       "3        TPP  \n",
       "4        TPP  \n",
       "5        TPP  \n",
       "6        TPP  \n",
       "7        TPP  \n",
       "8        TPP  \n",
       "9        TPP  \n",
       "10       TPP  \n",
       "11       TPP  \n",
       "12       TPP  \n",
       "13       TPP  \n",
       "14       TPP  \n",
       "15       TPP  \n",
       "16       TPP  \n",
       "17       TPP  \n",
       "18       TPP  \n",
       "19       TPP  \n",
       "20       TPP  \n",
       "21       TPP  \n",
       "22       TPP  \n",
       "23       TPP  \n",
       "24       TPP  \n",
       "25       TPP  \n",
       "26       TPP  \n",
       "27         0  "
      ]
     },
     "execution_count": 167,
     "metadata": {},
     "output_type": "execute_result"
    }
   ],
   "source": [
    "Tppwhrs"
   ]
  },
  {
   "cell_type": "code",
   "execution_count": 168,
   "id": "d1598293",
   "metadata": {},
   "outputs": [],
   "source": [
    "Tppwhrs['Unit'] = Tppwhrs['Unit'].str.replace('NORTH', 'Summary')\n",
    "Tppwhrs['Unit'] = Tppwhrs['Unit'].str.replace('CENTRAL', 'Summary')\n",
    "Tppwhrs['Unit'] = Tppwhrs['Unit'].str.replace('WEST', 'Summary')\n",
    "Tppwhrs['Unit'] = Tppwhrs['Unit'].str.replace('EAST', 'Summary')\n",
    "Tppwhrs['Unit'] = Tppwhrs['Unit'].str.replace('SOUTH', 'Summary')\n",
    "Tppwhrs['Unit'] = Tppwhrs['Unit'].str.replace('VIDARBHA', 'Summary')"
   ]
  },
  {
   "cell_type": "code",
   "execution_count": 169,
   "id": "def79e7a",
   "metadata": {},
   "outputs": [],
   "source": [
    "Tppwhrs['Type(TPP)']=Tppwhrs['Type(TPP)'].replace(['0'], 'TPP')"
   ]
  },
  {
   "cell_type": "markdown",
   "id": "1319cba5",
   "metadata": {},
   "source": [
    "# CLINKER SUMMARY DATASET PROCESSING"
   ]
  },
  {
   "cell_type": "code",
   "execution_count": 170,
   "id": "8821d49b",
   "metadata": {},
   "outputs": [],
   "source": [
    "beta=clkr.set_index(\"Unit\")"
   ]
  },
  {
   "cell_type": "code",
   "execution_count": 171,
   "id": "6dc5fbda",
   "metadata": {},
   "outputs": [],
   "source": [
    "clnorth= beta.loc['AC-1':'NORTH']"
   ]
  },
  {
   "cell_type": "code",
   "execution_count": 172,
   "id": "f547b612",
   "metadata": {},
   "outputs": [],
   "source": [
    "clnorth = clnorth.reset_index()"
   ]
  },
  {
   "cell_type": "code",
   "execution_count": 173,
   "id": "76b731fb",
   "metadata": {},
   "outputs": [],
   "source": [
    "import numpy as np\n",
    "clnorth=clnorth.apply(np.roll, shift=1)\n"
   ]
  },
  {
   "cell_type": "code",
   "execution_count": 174,
   "id": "989babc0",
   "metadata": {},
   "outputs": [],
   "source": [
    "clnorth['Region']= 'North'"
   ]
  },
  {
   "cell_type": "code",
   "execution_count": 175,
   "id": "9d74c703",
   "metadata": {},
   "outputs": [],
   "source": [
    "clcentral= beta.loc['BLCW-1':'CENTRAL']"
   ]
  },
  {
   "cell_type": "code",
   "execution_count": 176,
   "id": "90bb050a",
   "metadata": {},
   "outputs": [],
   "source": [
    "clcentral = clcentral.reset_index()"
   ]
  },
  {
   "cell_type": "code",
   "execution_count": 177,
   "id": "a57e25d4",
   "metadata": {},
   "outputs": [],
   "source": [
    "import numpy as np\n",
    "clcentral=clcentral.apply(np.roll, shift=1)"
   ]
  },
  {
   "cell_type": "code",
   "execution_count": 178,
   "id": "14235781",
   "metadata": {},
   "outputs": [],
   "source": [
    "clcentral['Region'] = \"Central\""
   ]
  },
  {
   "cell_type": "code",
   "execution_count": 179,
   "id": "60582811",
   "metadata": {},
   "outputs": [],
   "source": [
    "cleast= beta.loc['RWCW-1':'EAST']"
   ]
  },
  {
   "cell_type": "code",
   "execution_count": 180,
   "id": "f88272df",
   "metadata": {},
   "outputs": [],
   "source": [
    "cleast = cleast.reset_index()"
   ]
  },
  {
   "cell_type": "code",
   "execution_count": 181,
   "id": "06f8aae3",
   "metadata": {},
   "outputs": [],
   "source": [
    "import numpy as np\n",
    "cleast=cleast.apply(np.roll, shift=1)\n"
   ]
  },
  {
   "cell_type": "code",
   "execution_count": 182,
   "id": "64a25cb1",
   "metadata": {},
   "outputs": [],
   "source": [
    "cleast['Region'] = \"East\""
   ]
  },
  {
   "cell_type": "code",
   "execution_count": 183,
   "id": "d9f04d75",
   "metadata": {},
   "outputs": [],
   "source": [
    "clwest= beta.loc['GCW-1':'WEST']"
   ]
  },
  {
   "cell_type": "code",
   "execution_count": 184,
   "id": "b956b173",
   "metadata": {},
   "outputs": [],
   "source": [
    "clwest = clwest.reset_index()"
   ]
  },
  {
   "cell_type": "code",
   "execution_count": 185,
   "id": "ce0c6359",
   "metadata": {},
   "outputs": [],
   "source": [
    "import numpy as np\n",
    "clwest=clwest.apply(np.roll, shift=1)\n"
   ]
  },
  {
   "cell_type": "code",
   "execution_count": 186,
   "id": "0c61f5a3",
   "metadata": {},
   "outputs": [],
   "source": [
    "clwest['Region'] = \"West\""
   ]
  },
  {
   "cell_type": "code",
   "execution_count": 187,
   "id": "9bbcdd33",
   "metadata": {},
   "outputs": [],
   "source": [
    "clsouth= beta.loc['RC-1':'SOUTH']"
   ]
  },
  {
   "cell_type": "code",
   "execution_count": 188,
   "id": "25b94e5b",
   "metadata": {},
   "outputs": [],
   "source": [
    "clsouth = clsouth.reset_index()"
   ]
  },
  {
   "cell_type": "code",
   "execution_count": 189,
   "id": "5f090230",
   "metadata": {},
   "outputs": [],
   "source": [
    "import numpy as np\n",
    "clsouth=clsouth.apply(np.roll, shift=1)\n"
   ]
  },
  {
   "cell_type": "code",
   "execution_count": 190,
   "id": "6687a1e9",
   "metadata": {},
   "outputs": [],
   "source": [
    "clsouth['Region'] = \"South\""
   ]
  },
  {
   "cell_type": "code",
   "execution_count": 191,
   "id": "de7b069f",
   "metadata": {},
   "outputs": [],
   "source": [
    "clvidarbha= beta.loc['ACW-1':'VIDARBHA']"
   ]
  },
  {
   "cell_type": "code",
   "execution_count": 192,
   "id": "6a0829e0",
   "metadata": {},
   "outputs": [],
   "source": [
    "clvidarbha = clvidarbha.reset_index()"
   ]
  },
  {
   "cell_type": "code",
   "execution_count": 193,
   "id": "8591d39c",
   "metadata": {},
   "outputs": [],
   "source": [
    "import numpy as np\n",
    "clvidarbha=clvidarbha.apply(np.roll, shift=1)\n"
   ]
  },
  {
   "cell_type": "code",
   "execution_count": 194,
   "id": "bad7653d",
   "metadata": {},
   "outputs": [],
   "source": [
    "clvidarbha['Region'] = \"Vidarbha\""
   ]
  },
  {
   "cell_type": "markdown",
   "id": "0d4eb31c",
   "metadata": {},
   "source": [
    "# Final Clinker Dataset"
   ]
  },
  {
   "cell_type": "code",
   "execution_count": 195,
   "id": "c765e821",
   "metadata": {
    "scrolled": true
   },
   "outputs": [],
   "source": [
    "#cement=[north,central,east,west,south,vidarb\n",
    "clinker= pd.concat([clnorth,clcentral,cleast,clwest,clsouth,clvidarbha], ignore_index=True, sort=False)"
   ]
  },
  {
   "cell_type": "code",
   "execution_count": 196,
   "id": "052b7100",
   "metadata": {},
   "outputs": [],
   "source": [
    "clinker['dup_number'] = clinker.groupby(['Unit']).cumcount()+1 # form df1 to df\n"
   ]
  },
  {
   "cell_type": "code",
   "execution_count": 197,
   "id": "89d5e99b",
   "metadata": {},
   "outputs": [],
   "source": [
    "#cement.rename(columns = {'NORTH':'Summary'}, inplace = True)\n",
    "clinker['Unit'] = clinker['Unit'].str.replace('NORTH', 'Summary')"
   ]
  },
  {
   "cell_type": "code",
   "execution_count": 198,
   "id": "204af8c2",
   "metadata": {},
   "outputs": [],
   "source": [
    "clinker['Unit'] = clinker['Unit'].str.replace('SOUTH', 'Summary')"
   ]
  },
  {
   "cell_type": "code",
   "execution_count": 199,
   "id": "c6ae15f3",
   "metadata": {},
   "outputs": [],
   "source": [
    "clinker['Unit'] = clinker['Unit'].str.replace('EAST', 'Summary')"
   ]
  },
  {
   "cell_type": "code",
   "execution_count": 200,
   "id": "5afc0e57",
   "metadata": {},
   "outputs": [],
   "source": [
    "clinker['Unit'] = clinker['Unit'].str.replace('WEST', 'Summary')"
   ]
  },
  {
   "cell_type": "code",
   "execution_count": 201,
   "id": "a864b925",
   "metadata": {},
   "outputs": [],
   "source": [
    "clinker['Unit'] = clinker['Unit'].str.replace('VIDARBHA', 'Summary')"
   ]
  },
  {
   "cell_type": "code",
   "execution_count": 202,
   "id": "40a6737d",
   "metadata": {},
   "outputs": [],
   "source": [
    "clinker['Unit'] = clinker['Unit'].str.replace('CENTRAL', 'Summary')"
   ]
  },
  {
   "cell_type": "code",
   "execution_count": 203,
   "id": "e0c05393",
   "metadata": {},
   "outputs": [],
   "source": [
    "clinker['Prod_type']='Clinker'"
   ]
  },
  {
   "cell_type": "code",
   "execution_count": 204,
   "id": "bc59b099",
   "metadata": {
    "scrolled": false
   },
   "outputs": [],
   "source": [
    "clinker['Remark by User'] = clinker['Remark by User'].replace(['none'],np.nan)"
   ]
  },
  {
   "cell_type": "code",
   "execution_count": null,
   "id": "e98b724c",
   "metadata": {},
   "outputs": [],
   "source": []
  },
  {
   "cell_type": "code",
   "execution_count": 205,
   "id": "6052e8b7",
   "metadata": {},
   "outputs": [],
   "source": [
    "clinker=clinker.ffill(axis = 1)"
   ]
  },
  {
   "cell_type": "code",
   "execution_count": 206,
   "id": "871b3ff1",
   "metadata": {},
   "outputs": [],
   "source": [
    "rows = len(cement.axes[0])\n",
    "n = str(rows)"
   ]
  },
  {
   "cell_type": "markdown",
   "id": "a8fe45de",
   "metadata": {},
   "source": [
    "# Cement Summary Generation"
   ]
  },
  {
   "cell_type": "code",
   "execution_count": 207,
   "id": "01484cfe",
   "metadata": {},
   "outputs": [],
   "source": [
    "import sys\n",
    "\n",
    "stdoutOrigin=sys.stdout\n",
    "sys.stdout= open(\"output.txt\",\"w\")"
   ]
  },
  {
   "cell_type": "code",
   "execution_count": 208,
   "id": "46c48d69",
   "metadata": {},
   "outputs": [],
   "source": [
    "import pandas as pd\n",
    "cement.to_csv('cement1.csv', index=False)\n",
    "cement=pd.read_csv(\"cement1.csv\")"
   ]
  },
  {
   "cell_type": "code",
   "execution_count": 209,
   "id": "804647f8",
   "metadata": {},
   "outputs": [],
   "source": [
    "\n",
    "sys_df=pd.read_csv('cement1.csv', sep=',')\n",
    "json_output = r'cementjs.json'\n",
    "output= sys_df.to_json(json_output,indent=1,orient='records')"
   ]
  },
  {
   "cell_type": "code",
   "execution_count": 210,
   "id": "e29d2830",
   "metadata": {},
   "outputs": [],
   "source": [
    "import random\n",
    "def special_value(date,unit,bud,tar,sh,sr,sy,ur,var,perc,dn):\n",
    "    word_list=[]\n",
    "    my_word=[]\n",
    "    \n",
    "   # if var > 0:\n",
    "   #     word_list.append('The production exceeded by ' +str(perc)+'%('+str(tar)+') TPD'+ ' against ' +str(bud)+'TPD'+ ' budgeted after ' +str(sh)+ ' hours of stoppage due to ' +sr+ ' in '+ur+ '.')\n",
    "    \n",
    "    if unit=='Summary' and var > 0:\n",
    "        word_list.append('The production target exceeded by ' +str(perc)+ '%('+ str(tar)+' TPD)'+ ' against a budget of ' +str(bud)+' TPD'+ ' because of following reasons:')\n",
    "    elif unit == 'Summary' and var< 0:\n",
    "        word_list.append('The production loss of ' +str(perc)+'%('+str(tar)+' TPD)'+ 'against a budget of ' +str(bud)+' TPD'+ ' because of following reasons:')\n",
    "        \n",
    "    elif perc == 100.0 and sy=='none':\n",
    "        word_list.append('No production')\n",
    "    elif perc == 100.0:\n",
    "        word_list.append('No production because of ' +sy+ ' in '+ ur)\n",
    "    \n",
    "    elif sh == 0 and var > 0:\n",
    "        word_list.append('The production target exceeded by '+str(perc)+ '%('+ str(tar)+' TPD)'+ ' against a budget of ' +str(bud)+' TPD')\n",
    "    elif sh == 0 and var < 0:\n",
    "        word_list.append('The production dropped by ' +str(perc)+ '%('+ str(tar)+' TPD)'+ ' against a budget of ' +str(bud)+' TPD') \n",
    "\n",
    "    elif sh ==1000 and var > 0:\n",
    "        word_list.append('The production target exceeded after'+sr+'for 0.0 hours in'+ur)\n",
    "    elif sh == 1000 and var < 0:\n",
    "        word_list.append('The production dropped after'+sr+'for 0.0 hours in'+ur)\n",
    "        \n",
    "#################################################################################################################################################################################################################################      \n",
    "    elif dn == 2 and var > 0:\n",
    "        word_list.append('The exceed in target was attained despite of ' + sr +' for '+str(sh)+' hours in '+ur+'.')\n",
    "    elif dn == 3 and var > 0:\n",
    "        word_list.append('The exceed in target was attributed even after ' + sr +' for '+str(sh)+' hours in '+ur+'.')  \n",
    "    elif dn == 4 and var > 0:\n",
    "        word_list.append('The exceed in target was attributed even after ' + sr +' for '+str(sh)+' hours in '+ur+'.')\n",
    "    elif dn in range(5,7)  and var > 0:\n",
    "        word_list.append('The target exceeded even after ' + sr +' for '+str(sh)+' hours in '+ur+'.')\n",
    "    elif dn in range(7,9)  and var > 0:\n",
    "        word_list.append('The exceed in target was attributed even after ' + sr +' for '+str(sh)+' hours in '+ur+'.')\n",
    "    elif dn>=9  and var > 0:\n",
    "        word_list.append('The exceed in target was attained despite of ' + sr +' for '+str(sh)+' hours in '+ur+'.')\n",
    "\n",
    "#################################################################################################################################################################################################################################      \n",
    "\n",
    "    elif dn == 2 and var < 0:\n",
    "        word_list.append('The drop was due to ' + sr +' for '+str(sh)+' hours in '+ur+'.')\n",
    "    elif dn == 3 and var < 0:\n",
    "        word_list.append('The dip was also because of ' + sr +' for '+str(sh)+' hours in '+ur+'.')  \n",
    "    elif dn == 4 and var < 0:\n",
    "        word_list.append('The drop was also attributed to ' + sr +' for '+str(sh)+' hours in '+ur+'.')\n",
    "    elif dn in range(5,7)  and var < 0:\n",
    "        word_list.append('The dip was due to ' + sr +' for '+str(sh)+' hours in '+ur+'.')\n",
    "    elif dn in range(7,9)  and var < 0:\n",
    "        word_list.append('The drop was also because of ' + sr +' for '+str(sh)+' hours in '+ur+'.')\n",
    "    elif dn>=9  and var < 0:\n",
    "        word_list.append('The drop was also attributed to ' + sr +' for '+str(sh)+' hours in '+ur+'.')\n",
    "    \n",
    "        \n",
    "        \n",
    "        \n",
    "#################################################################################################################################################################################################################################  \n",
    "\n",
    "\n",
    "    elif var>0:\n",
    "        word_list.append('The production target exceeded by ' +str(perc)+'%('+str(tar)+' TPD)'+ ' against a budget of ' +str(bud)+' TPD'+ ' even after shutdown due to  ' +sr+ ' for '+str(sh)+' hours in '+ur+ '.')\n",
    "\n",
    "    elif var == 0:\n",
    "        word_list.append('No production')\n",
    "    else:\n",
    "        word_list.append('The production fell by ' +str(perc)+'%('+str(tar)+' TPD)'+ ' against a budget of ' +str(bud)+' TPD due to ' +sr+ ' for '+str(sh)+' hours in '+ur+ '.')\n",
    "        \n",
    "    \n",
    "    my_word = random.choice(word_list)\n",
    "    return my_word\n"
   ]
  },
  {
   "cell_type": "code",
   "execution_count": 211,
   "id": "3960bfa4",
   "metadata": {},
   "outputs": [],
   "source": [
    "rows = len(cement.axes[0])\n",
    "n = int(rows)"
   ]
  },
  {
   "cell_type": "code",
   "execution_count": 212,
   "id": "ae48da3d",
   "metadata": {},
   "outputs": [],
   "source": [
    "print('Commentary')\n",
    "import json\n",
    "filename = 'cementjs.json'\n",
    "figure_dict = []\n",
    "text_dict = []\n",
    "with open(filename) as f:\n",
    "    json_data = json.load(f)\n",
    "    \n",
    "    for i in range(0, n):\n",
    "        figure_info = json_data[i]\n",
    "        \n",
    "        date = figure_info[\"Date1\"]\n",
    "        unit = figure_info[\"Unit\"]\n",
    "        bud = figure_info[\"Budget\"]\n",
    "        tar = figure_info[\"TPD\"]\n",
    "        sh = figure_info[\"Stoppage Hours\"]       \n",
    "        sr = figure_info[\"Remark by User\"] \n",
    "        sy = figure_info[\"System Remark\"]\n",
    "        ur = figure_info[\"Workcentre\"]\n",
    "        var = figure_info[\"Var\"]\n",
    "        perc = figure_info[\"Percentage\"]\n",
    "        dn = figure_info[\"dup_number\"]\n",
    "        \n",
    "\n",
    "      \n",
    "\n",
    "        mytext = special_value(date,unit,bud,tar,sh,sr,sy,ur,var,perc,dn)\n",
    "         \n",
    "        dict_item = {\"Date1\":date,\"Unit\":unit, \"Budget\":bud, \"TPD\":tar, \"Stoppage Hours\":sh, \"System Remark\":sy,\"Remark by User\":sr, \"Workcentre\":ur,\"VAR\":var,\"Percentage\":perc,\"dup_number\":dn}\n",
    "        #print('%s:'%unit,mytext)\n",
    "        print(mytext)\n",
    "        print('\\n')"
   ]
  },
  {
   "cell_type": "code",
   "execution_count": 213,
   "id": "b3c77a36",
   "metadata": {},
   "outputs": [],
   "source": [
    "sys.stdout.close()\n",
    "sys.stdout=stdoutOrigin"
   ]
  },
  {
   "cell_type": "markdown",
   "id": "753dd421",
   "metadata": {},
   "source": [
    "# Clinker Summary Generation"
   ]
  },
  {
   "cell_type": "code",
   "execution_count": 214,
   "id": "7d504d45",
   "metadata": {},
   "outputs": [],
   "source": [
    "import sys\n",
    "\n",
    "stdoutOrigin1=sys.stdout\n",
    "sys.stdout= open(\"output1.txt\",\"w\")"
   ]
  },
  {
   "cell_type": "code",
   "execution_count": 215,
   "id": "7e1e1916",
   "metadata": {},
   "outputs": [],
   "source": [
    "import pandas as pd\n",
    "import json\n",
    "\n",
    "clinker.to_csv('clinker1.csv', index=False)\n",
    "clinker=pd.read_csv(\"clinker1.csv\")"
   ]
  },
  {
   "cell_type": "code",
   "execution_count": 216,
   "id": "aa5e7802",
   "metadata": {},
   "outputs": [],
   "source": [
    "sys_df=pd.read_csv('clinker1.csv', sep=',')\n",
    "json_output1 = r'clinkerjs.json'\n",
    "output= sys_df.to_json(json_output1,indent=1,orient='records')"
   ]
  },
  {
   "cell_type": "code",
   "execution_count": 217,
   "id": "d39f80f7",
   "metadata": {},
   "outputs": [],
   "source": [
    "#clinker.isnull().sum()"
   ]
  },
  {
   "cell_type": "code",
   "execution_count": 218,
   "id": "bcf5bc3c",
   "metadata": {},
   "outputs": [],
   "source": [
    "#clinker[\"Workcentre\"].fillna( method ='ffill', inplace = True)"
   ]
  },
  {
   "cell_type": "code",
   "execution_count": 219,
   "id": "29ef2f0d",
   "metadata": {},
   "outputs": [],
   "source": [
    "#clinker[\"Percentage\"].fillna( method ='ffill', inplace = True)"
   ]
  },
  {
   "cell_type": "code",
   "execution_count": 220,
   "id": "2e3c48cb",
   "metadata": {},
   "outputs": [],
   "source": [
    "#aggregate summary\n",
    "import random\n",
    "def clinker_value(date1,unit1,bud1,tar1,sh1,sr1,sy1,ur1,var1,per1,dn1):\n",
    "    clkr_list=[]\n",
    "    clkr_word=[]\n",
    "    \n",
    "    #if var1 > 0:\n",
    "     #   clkr_list.append('The production exceeded by ' +str(per1)+'%('+str(tar1)+') TPD'+ ' against ' +str(bud1)+'TPD'+ ' budgeted after ' +str(sh1)+ ' hours of stoppage due to ' +sr1+ ' in '+ur1+ '.')\n",
    "\n",
    "    if unit1=='Summary' and var1 > 0:\n",
    "        clkr_list.append('The production target exceeded by ' +str(per1)+ '%('+ str(tar1)+' TPD)'+ ' against a budget of ' +str(bud1)+' TPD'+ ' because of following reasons:')\n",
    "    elif unit1 == 'Summary' and var1 < 0:\n",
    "        clkr_list.append('The production loss of ' +str(per1)+'%('+str(tar1)+' TPD)'+ ' against a budget of ' +str(bud1)+' TPD'+ ' because of following reasons:')\n",
    "    \n",
    "    elif per1 == 100.0 and sy1=='none':\n",
    "        clkr_list.append('No production')\n",
    "    elif per1 == 100.0:\n",
    "        clkr_list.append('No production because of ' +sy1+ ' in '+ ur1)\n",
    "\n",
    "##################################################################################################################################################################################################################################      \n",
    "    elif dn1 == 2 and var1 > 0:\n",
    "        clkr_list.append('The exceed in target was attained despite of ' + sr1 +' for '+str(sh1)+' hours in '+ur1+'.')\n",
    "    elif dn1 == 3 and var1 > 0:\n",
    "        clkr_list.append('The exceed in target was attributed even after ' + sr1 +' for '+str(sh1)+' hours in '+ur1+'.')  \n",
    "    elif dn1 == 4 and var1 > 0:\n",
    "        clkr_list.append('The exceed in target was attributed even after ' + sr1 +' for '+str(sh1)+' hours in '+ur1+'.')\n",
    "    elif dn1 in range(5,7)  and var1 > 0:\n",
    "        clkr_list.append('The target exceeded even after ' + sr1 +' for '+str(sh1)+' hours in '+ur1+'.')\n",
    "    elif dn1 in range(7,9)  and var1 > 0:\n",
    "        clkr_list.append('The exceed in target was attributed even after ' + sr1 +' for '+str(sh1)+' hours in '+ur1+'.')\n",
    "    elif dn1>=9  and var1 > 0:\n",
    "        clkr_list.append('The exceed in target was attained despite of ' + sr1 +' for '+str(sh1)+' hours in '+ur1+'.')\n",
    "\n",
    "#################################################################################################################################################################################################################################      \n",
    "\n",
    "    elif dn1 == 2 and var1 < 0:\n",
    "        clkr_list.append('The drop was due to ' + sr1 +' for '+str(sh1)+' hours in '+ur1+'.')\n",
    "    elif dn1 == 3 and var1 < 0:\n",
    "        clkr_list.append('The dip was also because of ' + sr1 +' for '+str(sh1)+' hours in '+ur1+'.')  \n",
    "    elif dn1 == 4 and var1 < 0:\n",
    "        clkr_list.append('The drop was also attributed to ' + sr1 +' for '+str(sh1)+' hours in '+ur1+'.')\n",
    "    elif dn1 in range(5,7)  and var1 < 0:\n",
    "        clkr_list.append('The dip was due to ' + sr1 +' for '+str(sh1)+' hours in '+ur1+'.')\n",
    "    elif dn1 in range(7,9)  and var1 < 0:\n",
    "        clkr_list.append('The drop was also because of ' + sr1 +' for '+str(sh1)+' hours in '+ur1+'.')\n",
    "    elif dn1>=9  and var1 < 0:\n",
    "        clkr_list.append('The drop was also attributed to ' + sr1 +' for '+str(sh1)+' hours in '+ur1+'.')\n",
    "\n",
    "##########################################################################################################################################    \n",
    "    elif sh1 == 0 and var1 > 0:\n",
    "        clkr_list.append('The production target exceeded by ' +str(per1)+ '%('+ str(tar1)+' TPD)'+ ' against a budget of ' +str(bud1)+' TPD')\n",
    "    elif sh1 == 0 and var1 < 0:\n",
    "        clkr_list.append('The production fell by ' +str(per1)+ '%('+ str(tar1)+' TPD)'+ ' against a budget of ' +str(bud1)+' TPD')\n",
    "\n",
    "    elif sh1 ==1000 and var1 > 0:\n",
    "        clkr_list.append('The production target exceeded by ' +str(per1)+ '%('+ str(tar1)+' TPD)'+ ' against a budget of ' +str(bud1)+' TPD')\n",
    "    elif sh1 ==1000 and var1 < 0:\n",
    "        clkr_list.append('The production fell by ' +str(per1)+ '%('+ str(tar1)+' TPD)'+ ' against a budget of ' +str(bud1)+' TPD')\n",
    "\n",
    "##########################################################################################################################################    \n",
    "\n",
    "    elif var1>0:\n",
    "        clkr_list.append('The production target exceeded by ' +str(per1)+'%('+str(tar1)+' TPD)'+ ' against a budget of ' +str(bud1)+' TPD '+ 'even after shutdown due to  ' +sr1+ ' for '+ str(sh1)+' hours in '+ur1+ '.') \n",
    "         \n",
    "    elif var1 == 0:\n",
    "        clkr_list.append('No production')\n",
    "        \n",
    "    else:\n",
    "        clkr_list.append('The production dropped by ' +str(per1)+'% ('+str(tar1)+' TPD)'+ ' against a budget of ' +str(bud1)+' TPD '+ 'due to ' +sr1+ ' for '+str(sh1) +' hours in '+ur1+ '.')\n",
    "    \n",
    "   \n",
    "\n",
    " \n",
    "    \n",
    "    clkr_word = random.choice(clkr_list)\n",
    "    return clkr_word\n",
    "        \n",
    "    \n",
    "    "
   ]
  },
  {
   "cell_type": "code",
   "execution_count": 221,
   "id": "db5dbd61",
   "metadata": {},
   "outputs": [],
   "source": [
    "rows = len(clinker.axes[0])\n",
    "m = int(rows)"
   ]
  },
  {
   "cell_type": "code",
   "execution_count": 222,
   "id": "b81784e9",
   "metadata": {
    "scrolled": true
   },
   "outputs": [],
   "source": [
    "print('Commentary')\n",
    "import json\n",
    "filename = 'clinkerjs.json'\n",
    "figure_dict1 = []\n",
    "\n",
    "text_dict1 = []\n",
    "with open(filename) as f:\n",
    "    json_data1 = json.load(f)\n",
    "    \n",
    "    for i in range(0, m):\n",
    "        afigure_info1 = json_data1[i]\n",
    "        \n",
    "        date1 =afigure_info1[\"Date1\"]\n",
    "        unit1 =afigure_info1[\"Unit\"]\n",
    "        bud1 =afigure_info1[\"Budget\"]\n",
    "        tar1 =afigure_info1[\"TPD\"]\n",
    "        sh1 = afigure_info1[\"Stoppage Hours\"]       \n",
    "        sr1 = afigure_info1[\"Remark by User\"] \n",
    "        sy1 = afigure_info1[\"System Remark\"]\n",
    "        ur1 = afigure_info1[\"Workcentre\"]\n",
    "        var1 = afigure_info1[\"Var\"]\n",
    "        per1 = afigure_info1[\"Percentage\"]\n",
    "        dn1 = afigure_info1[\"dup_number\"]\n",
    "\n",
    "      \n",
    "\n",
    "        clkrtext = clinker_value(date1,unit1,bud1,tar1,sh1,sr1,sy1,ur1,var1,per1,dn1)\n",
    "        \n",
    "    \n",
    "        dict_item1 = {\"Date\":date1,\"Unit\":unit1, \"Budget\":bud1, \"TPD\":tar1, \"Stoppage Hours\":sh1, \"Remark by User\":sr1, \"System Remark\":sy1, \"Workcentre\":ur1,\"VAR\":var1,\"Percentage\":per1,\"dup_number\":dn1}\n",
    "        #print('%s:' %unit1,clkrtext)\n",
    "        print(clkrtext)\n",
    "        print('\\n')"
   ]
  },
  {
   "cell_type": "code",
   "execution_count": 223,
   "id": "de15e32d",
   "metadata": {},
   "outputs": [],
   "source": [
    "sys.stdout.close()\n",
    "sys.stdout=stdoutOrigin1"
   ]
  },
  {
   "cell_type": "code",
   "execution_count": 224,
   "id": "9fa9f9e1",
   "metadata": {},
   "outputs": [],
   "source": [
    "j=1+m"
   ]
  },
  {
   "cell_type": "code",
   "execution_count": 225,
   "id": "c9c510fe",
   "metadata": {},
   "outputs": [],
   "source": [
    "import numpy as np\n",
    "import pandas as pd\n",
    "\n",
    "x = np.loadtxt('output1.txt',delimiter = '\\n\\n', dtype=str)\n",
    "reshaped = x.reshape(-1,j).T\n",
    "output1 = pd.DataFrame(data = reshaped[1:,:], columns = reshaped[0])"
   ]
  },
  {
   "cell_type": "code",
   "execution_count": 226,
   "id": "f3e9c142",
   "metadata": {},
   "outputs": [],
   "source": [
    "k=n+1"
   ]
  },
  {
   "cell_type": "code",
   "execution_count": 227,
   "id": "e0660a88",
   "metadata": {},
   "outputs": [],
   "source": [
    "import numpy as np\n",
    "import pandas as pd\n",
    "\n",
    "y = np.loadtxt('output.txt',delimiter = '\\n\\n', dtype=str)\n",
    "reshaped = y.reshape(-1,k).T\n",
    "output = pd.DataFrame(data = reshaped[1:,:], columns = reshaped[0])"
   ]
  },
  {
   "cell_type": "code",
   "execution_count": 228,
   "id": "de3e2ab7",
   "metadata": {},
   "outputs": [],
   "source": [
    "#cemetcom= pd.concat([cement,output], ignore_index=True, sort=False)\n",
    "cemcom= cement.join(output)"
   ]
  },
  {
   "cell_type": "code",
   "execution_count": 229,
   "id": "63c31940",
   "metadata": {},
   "outputs": [],
   "source": [
    "clincom = clinker.join(output1)"
   ]
  },
  {
   "cell_type": "code",
   "execution_count": 230,
   "id": "14625238",
   "metadata": {
    "scrolled": true
   },
   "outputs": [],
   "source": [
    "datautc= pd.concat([cemcom,clincom], ignore_index=False)"
   ]
  },
  {
   "cell_type": "code",
   "execution_count": 231,
   "id": "66b4f797",
   "metadata": {
    "scrolled": true
   },
   "outputs": [],
   "source": [
    "datautc.drop(labels=['TPD', 'Percentage',\n",
    "       'System Remark', 'Remark by User', 'Stoppage Hours', 'dup_number'], axis=1, inplace=True)"
   ]
  },
  {
   "cell_type": "code",
   "execution_count": 232,
   "id": "2c723c71",
   "metadata": {},
   "outputs": [],
   "source": [
    "datautc.rename(columns = {'Region':'Plant'}, inplace = True)"
   ]
  },
  {
   "cell_type": "code",
   "execution_count": 233,
   "id": "c445d166",
   "metadata": {},
   "outputs": [],
   "source": [
    "datautc.rename(columns = {'Date1':'Date'}, inplace = True)"
   ]
  },
  {
   "cell_type": "code",
   "execution_count": 234,
   "id": "63613be6",
   "metadata": {},
   "outputs": [],
   "source": [
    "fnconc = pd.concat([datautc,Tppwhrs], ignore_index=True, sort=False)"
   ]
  },
  {
   "cell_type": "code",
   "execution_count": 235,
   "id": "f2624115",
   "metadata": {},
   "outputs": [],
   "source": [
    "#fnconc['Type']=\"\""
   ]
  },
  {
   "cell_type": "code",
   "execution_count": 236,
   "id": "1c8dc15f",
   "metadata": {},
   "outputs": [],
   "source": [
    "fnconc['Type(TPP)'] = fnconc['Type(TPP)'].fillna('Cement&Clinker')"
   ]
  },
  {
   "cell_type": "code",
   "execution_count": 237,
   "id": "08192c80",
   "metadata": {},
   "outputs": [],
   "source": [
    "#finalprod.to_csv('prodd.csv', header=True)"
   ]
  },
  {
   "cell_type": "code",
   "execution_count": 238,
   "id": "830f66cc",
   "metadata": {},
   "outputs": [],
   "source": [
    "#datautc['Commentary']=datautc['Commentary'].str.capitalize()\n",
    "fnconc.to_excel(r'C:\\Users\\jaideep.naroo-st\\Downloads\\prodd.xlsx', index = False)\n"
   ]
  },
  {
   "cell_type": "code",
   "execution_count": 239,
   "id": "48b8e62c",
   "metadata": {},
   "outputs": [],
   "source": [
    "#from openpyxl import load_workbook\n",
    "\n",
    "#path = r'C:\\Users\\jaideep.naroo-st\\Downloads\\productiondata.xlsx'\n",
    "#book = load_workbook(path)\n",
    "#writer = pd.ExcelWriter(r'C:\\Users\\jaideep.naroo-st\\Downloads\\productiondata.xlsx', engine='openpyxl')\n",
    "#writer.book = book\n",
    "#writer.sheets = {ws.title: ws for ws in book.worksheets}\n",
    "#fnconc.to_excel(writer, startrow=writer.sheets['Sheet1'].max_row, index = False,header= False)\n",
    "\n",
    "#writer.save()"
   ]
  },
  {
   "cell_type": "code",
   "execution_count": null,
   "id": "b026b2c4",
   "metadata": {},
   "outputs": [],
   "source": []
  }
 ],
 "metadata": {
  "kernelspec": {
   "display_name": "Python 3 (ipykernel)",
   "language": "python",
   "name": "python3"
  },
  "language_info": {
   "codemirror_mode": {
    "name": "ipython",
    "version": 3
   },
   "file_extension": ".py",
   "mimetype": "text/x-python",
   "name": "python",
   "nbconvert_exporter": "python",
   "pygments_lexer": "ipython3",
   "version": "3.9.12"
  }
 },
 "nbformat": 4,
 "nbformat_minor": 5
}
